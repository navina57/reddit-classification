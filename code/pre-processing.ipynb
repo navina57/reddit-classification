{
 "cells": [
  {
   "cell_type": "markdown",
   "id": "670ac9e4-fa1f-4ea3-ac96-f7bee1bdfab0",
   "metadata": {},
   "source": [
    "### Imports "
   ]
  },
  {
   "cell_type": "code",
   "execution_count": 20,
   "id": "be09875e-01a7-4834-99ed-038584a98ca9",
   "metadata": {},
   "outputs": [],
   "source": [
    "import matplotlib.pyplot as plt\n",
    "import pandas as pd\n",
    "import seaborn as sns\n",
    "from nltk.tokenize import sent_tokenize, word_tokenize\n",
    "from sklearn.feature_extraction.text import CountVectorizer\n",
    "from nltk.stem import WordNetLemmatizer\n",
    "from nltk.stem.porter import PorterStemmer\n",
    "\n",
    "pd.options.display.max_colwidth = 400"
   ]
  },
  {
   "cell_type": "markdown",
   "id": "4f5b2ef6-00de-4865-aa1e-b1225c20edee",
   "metadata": {},
   "source": [
    "## Problem Statement \n",
    "\n",
    "The aim of this project is to develop a classification model that is able to accurately distinguish between two types of users based on their Reddit posts: users who are experienced investors (professionals) and users who are interested in finance but are not heavily investing yet (amateurs). \n",
    "\r\n",
    "This model will analyze posts from r/investing, where more advanced discussions around investing occurs and r/personalfinance which entails a wider array of topics, often focused on personal financial management and introductory-level investment advice.\n",
    "\n",
    "**How does this apply to the real world?**\n",
    "\r\n",
    "For fintech companies, being able to effectively target novice investors can lead to more efficient marketing strategies. Companies often face the challenge of identifying and targeting novice investors, who represent an untapped customer base, without wasting resources on experienced investors who may already have established investment patterns. By identifying and focusing on users who are new to investing but still interested in expanding their finances, companies can tailor educational content, products, and services specifically to meet the needs of this group. For example, they could offer simplified investment platforms, beginner investment plans, or educational materials to convert finance enthusiasts into active investors.\r\n",
    " "
   ]
  },
  {
   "cell_type": "markdown",
   "id": "5cb7fe01-ec89-47e1-a879-2c77c5ab606f",
   "metadata": {},
   "source": [
    "### Load in Data \n",
    "\n",
    "Read in the data and take a look at how many characters/words per subreddit post. Here are some questions I am trying to answer with the test pre-processing: \n",
    "> * Are posts in r/personalfinance or r/investing lengthier?\n",
    "> * Which subreddit has more technical jargon? How can we use this to refine our model?\n",
    "> * What are some key words in each subreddit? How can we use this to differentiate between the two?\n",
    "> * Are there any words that are common between both subreddits? Can we remove these words to help our model perform better? "
   ]
  },
  {
   "cell_type": "code",
   "execution_count": 2,
   "id": "c5d8c2ea-9953-4d67-a8c8-ccfb6a7417ad",
   "metadata": {},
   "outputs": [
    {
     "data": {
      "text/html": [
       "<div>\n",
       "<style scoped>\n",
       "    .dataframe tbody tr th:only-of-type {\n",
       "        vertical-align: middle;\n",
       "    }\n",
       "\n",
       "    .dataframe tbody tr th {\n",
       "        vertical-align: top;\n",
       "    }\n",
       "\n",
       "    .dataframe thead th {\n",
       "        text-align: right;\n",
       "    }\n",
       "</style>\n",
       "<table border=\"1\" class=\"dataframe\">\n",
       "  <thead>\n",
       "    <tr style=\"text-align: right;\">\n",
       "      <th></th>\n",
       "      <th>subreddit</th>\n",
       "      <th>title</th>\n",
       "      <th>body</th>\n",
       "      <th>created</th>\n",
       "      <th>score</th>\n",
       "      <th>num_comments</th>\n",
       "      <th>id</th>\n",
       "      <th>combined_text</th>\n",
       "    </tr>\n",
       "  </thead>\n",
       "  <tbody>\n",
       "    <tr>\n",
       "      <th>0</th>\n",
       "      <td>personalfinance</td>\n",
       "      <td>taxes during retirement</td>\n",
       "      <td>i have been searching for this information but have not been able to find an exact answer my mom will be retiring next year she will have social security benefits a pension and a 401k account it looks like the first 10 k of social security benefit is not taxed in the hypothetical situation of getting 22k in ss and 15k pension how much would she pay in taxes for her 401k withdrawals is it bette...</td>\n",
       "      <td>1.728232e+09</td>\n",
       "      <td>1</td>\n",
       "      <td>2</td>\n",
       "      <td>1fxkhfd</td>\n",
       "      <td>taxes during retirement  i have been searching for this information but have not been able to find an exact answer my mom will be retiring next year she will have social security benefits a pension and a 401k account it looks like the first 10 k of social security benefit is not taxed in the hypothetical situation of getting 22k in ss and 15k pension how much would she pay in taxes for her 401...</td>\n",
       "    </tr>\n",
       "    <tr>\n",
       "      <th>1</th>\n",
       "      <td>personalfinance</td>\n",
       "      <td>withdraw from 401k  help</td>\n",
       "      <td>i have 40k in my 401k i have set my mind on withdrawing 20k i know its a bad idea i am fully aware of the consequences and i still choose to go thru this\\n\\nproblem  i dont have a reason that qualifies me for early withdraw how can i get my money out do i have to submit the reason why with proof the 20k will set me debt free and give me peace of mind which i value the most at this very moment ...</td>\n",
       "      <td>1.728231e+09</td>\n",
       "      <td>0</td>\n",
       "      <td>4</td>\n",
       "      <td>1fxk5ml</td>\n",
       "      <td>withdraw from 401k  help i have 40k in my 401k i have set my mind on withdrawing 20k i know its a bad idea i am fully aware of the consequences and i still choose to go thru this\\n\\nproblem  i dont have a reason that qualifies me for early withdraw how can i get my money out do i have to submit the reason why with proof the 20k will set me debt free and give me peace of mind which i value the ...</td>\n",
       "    </tr>\n",
       "    <tr>\n",
       "      <th>2</th>\n",
       "      <td>personalfinance</td>\n",
       "      <td>16k car silly choice</td>\n",
       "      <td>hello as title says ive been looking around at cars at 16k mark and recently this week my car was actually stolen so has now kind of given me a push would it be a silly move to take if taken into account i get 175 a day monday to friday 0 if im not inill with full time permanent job ive got around 52k saved up and save around 500 a week living with my mum as i cant find a reasonable house to b...</td>\n",
       "      <td>1.728231e+09</td>\n",
       "      <td>1</td>\n",
       "      <td>2</td>\n",
       "      <td>1fxk4qv</td>\n",
       "      <td>16k car silly choice hello as title says ive been looking around at cars at 16k mark and recently this week my car was actually stolen so has now kind of given me a push would it be a silly move to take if taken into account i get 175 a day monday to friday 0 if im not inill with full time permanent job ive got around 52k saved up and save around 500 a week living with my mum as i cant find a ...</td>\n",
       "    </tr>\n",
       "    <tr>\n",
       "      <th>3</th>\n",
       "      <td>personalfinance</td>\n",
       "      <td>financial advice on savings</td>\n",
       "      <td>hi folks\\n\\nso im torn about what i should do with my savings i am the following\\n\\n1 35 years old  \\n2 70k salary  \\n2 live and work in nyc  \\n3 have 100k in student debt that im waiting to have forgiven  \\n4 have 200k in a hysa  \\n5 have 50k in a retirement account  \\n5 zero nonstudent debt\\n\\ni have been saving hard for 10 years and thats how i saved up my 200k my intention was to use this ...</td>\n",
       "      <td>1.728231e+09</td>\n",
       "      <td>1</td>\n",
       "      <td>2</td>\n",
       "      <td>1fxk29l</td>\n",
       "      <td>financial advice on savings hi folks\\n\\nso im torn about what i should do with my savings i am the following\\n\\n1 35 years old  \\n2 70k salary  \\n2 live and work in nyc  \\n3 have 100k in student debt that im waiting to have forgiven  \\n4 have 200k in a hysa  \\n5 have 50k in a retirement account  \\n5 zero nonstudent debt\\n\\ni have been saving hard for 10 years and thats how i saved up my 200k m...</td>\n",
       "    </tr>\n",
       "    <tr>\n",
       "      <th>4</th>\n",
       "      <td>personalfinance</td>\n",
       "      <td>suggestion for spending on a phone</td>\n",
       "      <td>what do you suggets for this scenario\\nmy company reimburse 30k for new mobile purchase only if you stay in the company for 2 years otherwise would have to return some age back currently have a 5 years old oneplus7 phone but in a well working condition and will probably work for another 2 years\\n\\nwill it be a wise decision to purchase iphone 15 for 55k where 30k will be reimbursed with probab...</td>\n",
       "      <td>1.728230e+09</td>\n",
       "      <td>0</td>\n",
       "      <td>0</td>\n",
       "      <td>1fxjtot</td>\n",
       "      <td>suggestion for spending on a phone what do you suggets for this scenario\\nmy company reimburse 30k for new mobile purchase only if you stay in the company for 2 years otherwise would have to return some age back currently have a 5 years old oneplus7 phone but in a well working condition and will probably work for another 2 years\\n\\nwill it be a wise decision to purchase iphone 15 for 55k where...</td>\n",
       "    </tr>\n",
       "  </tbody>\n",
       "</table>\n",
       "</div>"
      ],
      "text/plain": [
       "         subreddit                               title  \\\n",
       "0  personalfinance            taxes during retirement    \n",
       "1  personalfinance            withdraw from 401k  help   \n",
       "2  personalfinance                16k car silly choice   \n",
       "3  personalfinance         financial advice on savings   \n",
       "4  personalfinance  suggestion for spending on a phone   \n",
       "\n",
       "                                                                                                                                                                                                                                                                                                                                                                                                              body  \\\n",
       "0  i have been searching for this information but have not been able to find an exact answer my mom will be retiring next year she will have social security benefits a pension and a 401k account it looks like the first 10 k of social security benefit is not taxed in the hypothetical situation of getting 22k in ss and 15k pension how much would she pay in taxes for her 401k withdrawals is it bette...   \n",
       "1  i have 40k in my 401k i have set my mind on withdrawing 20k i know its a bad idea i am fully aware of the consequences and i still choose to go thru this\\n\\nproblem  i dont have a reason that qualifies me for early withdraw how can i get my money out do i have to submit the reason why with proof the 20k will set me debt free and give me peace of mind which i value the most at this very moment ...   \n",
       "2  hello as title says ive been looking around at cars at 16k mark and recently this week my car was actually stolen so has now kind of given me a push would it be a silly move to take if taken into account i get 175 a day monday to friday 0 if im not inill with full time permanent job ive got around 52k saved up and save around 500 a week living with my mum as i cant find a reasonable house to b...   \n",
       "3  hi folks\\n\\nso im torn about what i should do with my savings i am the following\\n\\n1 35 years old  \\n2 70k salary  \\n2 live and work in nyc  \\n3 have 100k in student debt that im waiting to have forgiven  \\n4 have 200k in a hysa  \\n5 have 50k in a retirement account  \\n5 zero nonstudent debt\\n\\ni have been saving hard for 10 years and thats how i saved up my 200k my intention was to use this ...   \n",
       "4  what do you suggets for this scenario\\nmy company reimburse 30k for new mobile purchase only if you stay in the company for 2 years otherwise would have to return some age back currently have a 5 years old oneplus7 phone but in a well working condition and will probably work for another 2 years\\n\\nwill it be a wise decision to purchase iphone 15 for 55k where 30k will be reimbursed with probab...   \n",
       "\n",
       "        created  score  num_comments       id  \\\n",
       "0  1.728232e+09      1             2  1fxkhfd   \n",
       "1  1.728231e+09      0             4  1fxk5ml   \n",
       "2  1.728231e+09      1             2  1fxk4qv   \n",
       "3  1.728231e+09      1             2  1fxk29l   \n",
       "4  1.728230e+09      0             0  1fxjtot   \n",
       "\n",
       "                                                                                                                                                                                                                                                                                                                                                                                                     combined_text  \n",
       "0  taxes during retirement  i have been searching for this information but have not been able to find an exact answer my mom will be retiring next year she will have social security benefits a pension and a 401k account it looks like the first 10 k of social security benefit is not taxed in the hypothetical situation of getting 22k in ss and 15k pension how much would she pay in taxes for her 401...  \n",
       "1  withdraw from 401k  help i have 40k in my 401k i have set my mind on withdrawing 20k i know its a bad idea i am fully aware of the consequences and i still choose to go thru this\\n\\nproblem  i dont have a reason that qualifies me for early withdraw how can i get my money out do i have to submit the reason why with proof the 20k will set me debt free and give me peace of mind which i value the ...  \n",
       "2  16k car silly choice hello as title says ive been looking around at cars at 16k mark and recently this week my car was actually stolen so has now kind of given me a push would it be a silly move to take if taken into account i get 175 a day monday to friday 0 if im not inill with full time permanent job ive got around 52k saved up and save around 500 a week living with my mum as i cant find a ...  \n",
       "3  financial advice on savings hi folks\\n\\nso im torn about what i should do with my savings i am the following\\n\\n1 35 years old  \\n2 70k salary  \\n2 live and work in nyc  \\n3 have 100k in student debt that im waiting to have forgiven  \\n4 have 200k in a hysa  \\n5 have 50k in a retirement account  \\n5 zero nonstudent debt\\n\\ni have been saving hard for 10 years and thats how i saved up my 200k m...  \n",
       "4  suggestion for spending on a phone what do you suggets for this scenario\\nmy company reimburse 30k for new mobile purchase only if you stay in the company for 2 years otherwise would have to return some age back currently have a 5 years old oneplus7 phone but in a well working condition and will probably work for another 2 years\\n\\nwill it be a wise decision to purchase iphone 15 for 55k where...  "
      ]
     },
     "execution_count": 2,
     "metadata": {},
     "output_type": "execute_result"
    }
   ],
   "source": [
    "# Read in data \n",
    "reddit_df = pd.read_csv('../data/subreddit-data.csv')\n",
    "\n",
    "# Remove special charcaters \n",
    "reddit_df['body'] = reddit_df['body'].str.replace(r'[^\\w\\s]', '', regex=True)\n",
    "reddit_df['title'] = reddit_df['title'].str.replace(r'[^\\w\\s]', '', regex=True)\n",
    "\n",
    "# Lowercase text in body and title\n",
    "reddit_df['body'] = reddit_df['body'].str.lower()\n",
    "reddit_df['title'] = reddit_df['title'].str.lower()\n",
    "\n",
    "# Combining text data for one input\n",
    "reddit_df['combined_text'] = reddit_df['title'] + ' ' + reddit_df['body']\n",
    "\n",
    "# drop rows with no body \n",
    "reddit_df.dropna(subset = ['body'], inplace = True)\n",
    "\n",
    "# Check the data frame \n",
    "reddit_df.head()"
   ]
  },
  {
   "cell_type": "code",
   "execution_count": 3,
   "id": "b418fb40-4868-4281-a87a-bb262b2dc4e6",
   "metadata": {},
   "outputs": [
    {
     "data": {
      "text/plain": [
       "title            0\n",
       "body             0\n",
       "combined_text    0\n",
       "dtype: int64"
      ]
     },
     "execution_count": 3,
     "metadata": {},
     "output_type": "execute_result"
    }
   ],
   "source": [
    "# Check for any null values again\n",
    "reddit_df[['title', 'body', 'combined_text']].isnull().sum()"
   ]
  },
  {
   "cell_type": "code",
   "execution_count": 4,
   "id": "e2c2b828-14c3-4a88-aa49-d8ebd12a8976",
   "metadata": {},
   "outputs": [
    {
     "data": {
      "text/plain": [
       "0    712\n",
       "1    400\n",
       "2    603\n",
       "3    733\n",
       "4    713\n",
       "Name: body_length, dtype: int64"
      ]
     },
     "execution_count": 4,
     "metadata": {},
     "output_type": "execute_result"
    }
   ],
   "source": [
    "# Create new column called 'body_length'\n",
    "reddit_df['body_length'] = reddit_df['body'].str.len()\n",
    "reddit_df['body_length'].head()"
   ]
  },
  {
   "cell_type": "code",
   "execution_count": 5,
   "id": "c328b689-b696-4edb-a553-31d69947e6c7",
   "metadata": {},
   "outputs": [
    {
     "data": {
      "text/plain": [
       "0    131\n",
       "1     88\n",
       "2    127\n",
       "3    147\n",
       "4    136\n",
       "Name: body_word_count, dtype: int64"
      ]
     },
     "execution_count": 5,
     "metadata": {},
     "output_type": "execute_result"
    }
   ],
   "source": [
    "# Create new column for word count \n",
    "reddit_df['body_word_count'] = reddit_df['body'].str.split().str.len()\n",
    "reddit_df['body_word_count'].head()"
   ]
  },
  {
   "cell_type": "markdown",
   "id": "457713bf-de50-40d0-99e4-1b3b3222ef9a",
   "metadata": {},
   "source": [
    "#### Are posts in r/personalfinance or r/investing lengthier?\n",
    "> Looks like there is no significant difference in the length of the posts from either subreddit. We can assume that the length of the posts will not have a huge impact on determining which subreddit a post is from. "
   ]
  },
  {
   "cell_type": "code",
   "execution_count": 6,
   "id": "4695cde0-da14-43a5-8400-5ce1545f2de9",
   "metadata": {},
   "outputs": [
    {
     "data": {
      "text/plain": [
       "subreddit\n",
       "investing          134.322946\n",
       "personalfinance    162.908170\n",
       "Name: body_word_count, dtype: float64"
      ]
     },
     "execution_count": 6,
     "metadata": {},
     "output_type": "execute_result"
    }
   ],
   "source": [
    "# Group by each subreddit and calculate average body word count for each \n",
    "reddit_df.groupby('subreddit')['body_word_count'].mean()"
   ]
  },
  {
   "cell_type": "markdown",
   "id": "56f27ab4-3407-444f-b657-73ef70672493",
   "metadata": {},
   "source": [
    "#### Are there any words that are common between both subreddits? Can we remove these words to help our model perform better?"
   ]
  },
  {
   "cell_type": "code",
   "execution_count": 21,
   "id": "c33a9616-f402-42f6-8bc5-6cffa2e5c8ed",
   "metadata": {},
   "outputs": [
    {
     "data": {
      "text/html": [
       "<div>\n",
       "<style scoped>\n",
       "    .dataframe tbody tr th:only-of-type {\n",
       "        vertical-align: middle;\n",
       "    }\n",
       "\n",
       "    .dataframe tbody tr th {\n",
       "        vertical-align: top;\n",
       "    }\n",
       "\n",
       "    .dataframe thead th {\n",
       "        text-align: right;\n",
       "    }\n",
       "</style>\n",
       "<table border=\"1\" class=\"dataframe\">\n",
       "  <thead>\n",
       "    <tr style=\"text-align: right;\">\n",
       "      <th></th>\n",
       "      <th>subreddit</th>\n",
       "      <th>title</th>\n",
       "      <th>body</th>\n",
       "      <th>created</th>\n",
       "      <th>score</th>\n",
       "      <th>num_comments</th>\n",
       "      <th>id</th>\n",
       "      <th>combined_text</th>\n",
       "      <th>body_length</th>\n",
       "      <th>body_word_count</th>\n",
       "      <th>body_lemmatized</th>\n",
       "      <th>body_stemmed</th>\n",
       "    </tr>\n",
       "  </thead>\n",
       "  <tbody>\n",
       "    <tr>\n",
       "      <th>0</th>\n",
       "      <td>personalfinance</td>\n",
       "      <td>taxes during retirement</td>\n",
       "      <td>i have been searching for this information but have not been able to find an exact answer my mom will be retiring next year she will have social security benefits a pension and a 401k account it looks like the first 10 k of social security benefit is not taxed in the hypothetical situation of getting 22k in ss and 15k pension how much would she pay in taxes for her 401k withdrawals is it bette...</td>\n",
       "      <td>1.728232e+09</td>\n",
       "      <td>1</td>\n",
       "      <td>2</td>\n",
       "      <td>1fxkhfd</td>\n",
       "      <td>taxes during retirement  i have been searching for this information but have not been able to find an exact answer my mom will be retiring next year she will have social security benefits a pension and a 401k account it looks like the first 10 k of social security benefit is not taxed in the hypothetical situation of getting 22k in ss and 15k pension how much would she pay in taxes for her 401...</td>\n",
       "      <td>712</td>\n",
       "      <td>131</td>\n",
       "      <td>tax during retirement i have been searching for this information but have not been able to find an exact answer my mom will be retiring next year she will have social security benefit a pension and a 401k account it look like the first 10 k of social security benefit is not taxed in the hypothetical situation of getting 22k in s and 15k pension how much would she pay in tax for her 401k withdr...</td>\n",
       "      <td>tax dure retir i have been search for thi inform but have not been abl to find an exact answer my mom will be retir next year she will have social secur benefit a pension and a 401k account it look like the first 10 k of social secur benefit is not tax in the hypothet situat of get 22k in ss and 15k pension how much would she pay in tax for her 401k withdraw is it better to withdraw some amoun...</td>\n",
       "    </tr>\n",
       "    <tr>\n",
       "      <th>1</th>\n",
       "      <td>personalfinance</td>\n",
       "      <td>withdraw from 401k  help</td>\n",
       "      <td>i have 40k in my 401k i have set my mind on withdrawing 20k i know its a bad idea i am fully aware of the consequences and i still choose to go thru this\\n\\nproblem  i dont have a reason that qualifies me for early withdraw how can i get my money out do i have to submit the reason why with proof the 20k will set me debt free and give me peace of mind which i value the most at this very moment ...</td>\n",
       "      <td>1.728231e+09</td>\n",
       "      <td>0</td>\n",
       "      <td>4</td>\n",
       "      <td>1fxk5ml</td>\n",
       "      <td>withdraw from 401k  help i have 40k in my 401k i have set my mind on withdrawing 20k i know its a bad idea i am fully aware of the consequences and i still choose to go thru this\\n\\nproblem  i dont have a reason that qualifies me for early withdraw how can i get my money out do i have to submit the reason why with proof the 20k will set me debt free and give me peace of mind which i value the ...</td>\n",
       "      <td>400</td>\n",
       "      <td>88</td>\n",
       "      <td>withdraw from 401k help i have 40k in my 401k i have set my mind on withdrawing 20k i know it a bad idea i am fully aware of the consequence and i still choose to go thru this problem i dont have a reason that qualifies me for early withdraw how can i get my money out do i have to submit the reason why with proof the 20k will set me debt free and give me peace of mind which i value the most at...</td>\n",
       "      <td>withdraw from 401k help i have 40k in my 401k i have set my mind on withdraw 20k i know it a bad idea i am fulli awar of the consequ and i still choos to go thru thi problem i dont have a reason that qualifi me for earli withdraw how can i get my money out do i have to submit the reason whi with proof the 20k will set me debt free and give me peac of mind which i valu the most at thi veri mome...</td>\n",
       "    </tr>\n",
       "    <tr>\n",
       "      <th>2</th>\n",
       "      <td>personalfinance</td>\n",
       "      <td>16k car silly choice</td>\n",
       "      <td>hello as title says ive been looking around at cars at 16k mark and recently this week my car was actually stolen so has now kind of given me a push would it be a silly move to take if taken into account i get 175 a day monday to friday 0 if im not inill with full time permanent job ive got around 52k saved up and save around 500 a week living with my mum as i cant find a reasonable house to b...</td>\n",
       "      <td>1.728231e+09</td>\n",
       "      <td>1</td>\n",
       "      <td>2</td>\n",
       "      <td>1fxk4qv</td>\n",
       "      <td>16k car silly choice hello as title says ive been looking around at cars at 16k mark and recently this week my car was actually stolen so has now kind of given me a push would it be a silly move to take if taken into account i get 175 a day monday to friday 0 if im not inill with full time permanent job ive got around 52k saved up and save around 500 a week living with my mum as i cant find a ...</td>\n",
       "      <td>603</td>\n",
       "      <td>127</td>\n",
       "      <td>16k car silly choice hello a title say ive been looking around at car at 16k mark and recently this week my car wa actually stolen so ha now kind of given me a push would it be a silly move to take if taken into account i get 175 a day monday to friday 0 if im not inill with full time permanent job ive got around 52k saved up and save around 500 a week living with my mum a i cant find a reason...</td>\n",
       "      <td>16k car silli choic hello as titl say ive been look around at car at 16k mark and recent thi week my car wa actual stolen so ha now kind of given me a push would it be a silli move to take if taken into account i get 175 a day monday to friday 0 if im not inil with full time perman job ive got around 52k save up and save around 500 a week live with my mum as i cant find a reason hous to buymor...</td>\n",
       "    </tr>\n",
       "    <tr>\n",
       "      <th>3</th>\n",
       "      <td>personalfinance</td>\n",
       "      <td>financial advice on savings</td>\n",
       "      <td>hi folks\\n\\nso im torn about what i should do with my savings i am the following\\n\\n1 35 years old  \\n2 70k salary  \\n2 live and work in nyc  \\n3 have 100k in student debt that im waiting to have forgiven  \\n4 have 200k in a hysa  \\n5 have 50k in a retirement account  \\n5 zero nonstudent debt\\n\\ni have been saving hard for 10 years and thats how i saved up my 200k my intention was to use this ...</td>\n",
       "      <td>1.728231e+09</td>\n",
       "      <td>1</td>\n",
       "      <td>2</td>\n",
       "      <td>1fxk29l</td>\n",
       "      <td>financial advice on savings hi folks\\n\\nso im torn about what i should do with my savings i am the following\\n\\n1 35 years old  \\n2 70k salary  \\n2 live and work in nyc  \\n3 have 100k in student debt that im waiting to have forgiven  \\n4 have 200k in a hysa  \\n5 have 50k in a retirement account  \\n5 zero nonstudent debt\\n\\ni have been saving hard for 10 years and thats how i saved up my 200k m...</td>\n",
       "      <td>733</td>\n",
       "      <td>147</td>\n",
       "      <td>financial advice on saving hi folk so im torn about what i should do with my saving i am the following 1 35 year old 2 70k salary 2 live and work in nyc 3 have 100k in student debt that im waiting to have forgiven 4 have 200k in a hysa 5 have 50k in a retirement account 5 zero nonstudent debt i have been saving hard for 10 year and thats how i saved up my 200k my intention wa to use this money...</td>\n",
       "      <td>financi advic on save hi folk so im torn about what i should do with my save i am the follow 1 35 year old 2 70k salari 2 live and work in nyc 3 have 100k in student debt that im wait to have forgiven 4 have 200k in a hysa 5 have 50k in a retir account 5 zero nonstud debt i have been save hard for 10 year and that how i save up my 200k my intent wa to use thi money to buy myself some properti ...</td>\n",
       "    </tr>\n",
       "    <tr>\n",
       "      <th>4</th>\n",
       "      <td>personalfinance</td>\n",
       "      <td>suggestion for spending on a phone</td>\n",
       "      <td>what do you suggets for this scenario\\nmy company reimburse 30k for new mobile purchase only if you stay in the company for 2 years otherwise would have to return some age back currently have a 5 years old oneplus7 phone but in a well working condition and will probably work for another 2 years\\n\\nwill it be a wise decision to purchase iphone 15 for 55k where 30k will be reimbursed with probab...</td>\n",
       "      <td>1.728230e+09</td>\n",
       "      <td>0</td>\n",
       "      <td>0</td>\n",
       "      <td>1fxjtot</td>\n",
       "      <td>suggestion for spending on a phone what do you suggets for this scenario\\nmy company reimburse 30k for new mobile purchase only if you stay in the company for 2 years otherwise would have to return some age back currently have a 5 years old oneplus7 phone but in a well working condition and will probably work for another 2 years\\n\\nwill it be a wise decision to purchase iphone 15 for 55k where...</td>\n",
       "      <td>713</td>\n",
       "      <td>136</td>\n",
       "      <td>suggestion for spending on a phone what do you suggets for this scenario my company reimburse 30k for new mobile purchase only if you stay in the company for 2 year otherwise would have to return some age back currently have a 5 year old oneplus7 phone but in a well working condition and will probably work for another 2 year will it be a wise decision to purchase iphone 15 for 55k where 30k wi...</td>\n",
       "      <td>suggest for spend on a phone what do you sugget for thi scenario my compani reimburs 30k for new mobil purchas onli if you stay in the compani for 2 year otherwis would have to return some age back current have a 5 year old oneplus7 phone but in a well work condit and will probabl work for anoth 2 year will it be a wise decis to purchas iphon 15 for 55k where 30k will be reimburs with probabl ...</td>\n",
       "    </tr>\n",
       "  </tbody>\n",
       "</table>\n",
       "</div>"
      ],
      "text/plain": [
       "         subreddit                               title  \\\n",
       "0  personalfinance            taxes during retirement    \n",
       "1  personalfinance            withdraw from 401k  help   \n",
       "2  personalfinance                16k car silly choice   \n",
       "3  personalfinance         financial advice on savings   \n",
       "4  personalfinance  suggestion for spending on a phone   \n",
       "\n",
       "                                                                                                                                                                                                                                                                                                                                                                                                              body  \\\n",
       "0  i have been searching for this information but have not been able to find an exact answer my mom will be retiring next year she will have social security benefits a pension and a 401k account it looks like the first 10 k of social security benefit is not taxed in the hypothetical situation of getting 22k in ss and 15k pension how much would she pay in taxes for her 401k withdrawals is it bette...   \n",
       "1  i have 40k in my 401k i have set my mind on withdrawing 20k i know its a bad idea i am fully aware of the consequences and i still choose to go thru this\\n\\nproblem  i dont have a reason that qualifies me for early withdraw how can i get my money out do i have to submit the reason why with proof the 20k will set me debt free and give me peace of mind which i value the most at this very moment ...   \n",
       "2  hello as title says ive been looking around at cars at 16k mark and recently this week my car was actually stolen so has now kind of given me a push would it be a silly move to take if taken into account i get 175 a day monday to friday 0 if im not inill with full time permanent job ive got around 52k saved up and save around 500 a week living with my mum as i cant find a reasonable house to b...   \n",
       "3  hi folks\\n\\nso im torn about what i should do with my savings i am the following\\n\\n1 35 years old  \\n2 70k salary  \\n2 live and work in nyc  \\n3 have 100k in student debt that im waiting to have forgiven  \\n4 have 200k in a hysa  \\n5 have 50k in a retirement account  \\n5 zero nonstudent debt\\n\\ni have been saving hard for 10 years and thats how i saved up my 200k my intention was to use this ...   \n",
       "4  what do you suggets for this scenario\\nmy company reimburse 30k for new mobile purchase only if you stay in the company for 2 years otherwise would have to return some age back currently have a 5 years old oneplus7 phone but in a well working condition and will probably work for another 2 years\\n\\nwill it be a wise decision to purchase iphone 15 for 55k where 30k will be reimbursed with probab...   \n",
       "\n",
       "        created  score  num_comments       id  \\\n",
       "0  1.728232e+09      1             2  1fxkhfd   \n",
       "1  1.728231e+09      0             4  1fxk5ml   \n",
       "2  1.728231e+09      1             2  1fxk4qv   \n",
       "3  1.728231e+09      1             2  1fxk29l   \n",
       "4  1.728230e+09      0             0  1fxjtot   \n",
       "\n",
       "                                                                                                                                                                                                                                                                                                                                                                                                     combined_text  \\\n",
       "0  taxes during retirement  i have been searching for this information but have not been able to find an exact answer my mom will be retiring next year she will have social security benefits a pension and a 401k account it looks like the first 10 k of social security benefit is not taxed in the hypothetical situation of getting 22k in ss and 15k pension how much would she pay in taxes for her 401...   \n",
       "1  withdraw from 401k  help i have 40k in my 401k i have set my mind on withdrawing 20k i know its a bad idea i am fully aware of the consequences and i still choose to go thru this\\n\\nproblem  i dont have a reason that qualifies me for early withdraw how can i get my money out do i have to submit the reason why with proof the 20k will set me debt free and give me peace of mind which i value the ...   \n",
       "2  16k car silly choice hello as title says ive been looking around at cars at 16k mark and recently this week my car was actually stolen so has now kind of given me a push would it be a silly move to take if taken into account i get 175 a day monday to friday 0 if im not inill with full time permanent job ive got around 52k saved up and save around 500 a week living with my mum as i cant find a ...   \n",
       "3  financial advice on savings hi folks\\n\\nso im torn about what i should do with my savings i am the following\\n\\n1 35 years old  \\n2 70k salary  \\n2 live and work in nyc  \\n3 have 100k in student debt that im waiting to have forgiven  \\n4 have 200k in a hysa  \\n5 have 50k in a retirement account  \\n5 zero nonstudent debt\\n\\ni have been saving hard for 10 years and thats how i saved up my 200k m...   \n",
       "4  suggestion for spending on a phone what do you suggets for this scenario\\nmy company reimburse 30k for new mobile purchase only if you stay in the company for 2 years otherwise would have to return some age back currently have a 5 years old oneplus7 phone but in a well working condition and will probably work for another 2 years\\n\\nwill it be a wise decision to purchase iphone 15 for 55k where...   \n",
       "\n",
       "   body_length  body_word_count  \\\n",
       "0          712              131   \n",
       "1          400               88   \n",
       "2          603              127   \n",
       "3          733              147   \n",
       "4          713              136   \n",
       "\n",
       "                                                                                                                                                                                                                                                                                                                                                                                                   body_lemmatized  \\\n",
       "0  tax during retirement i have been searching for this information but have not been able to find an exact answer my mom will be retiring next year she will have social security benefit a pension and a 401k account it look like the first 10 k of social security benefit is not taxed in the hypothetical situation of getting 22k in s and 15k pension how much would she pay in tax for her 401k withdr...   \n",
       "1  withdraw from 401k help i have 40k in my 401k i have set my mind on withdrawing 20k i know it a bad idea i am fully aware of the consequence and i still choose to go thru this problem i dont have a reason that qualifies me for early withdraw how can i get my money out do i have to submit the reason why with proof the 20k will set me debt free and give me peace of mind which i value the most at...   \n",
       "2  16k car silly choice hello a title say ive been looking around at car at 16k mark and recently this week my car wa actually stolen so ha now kind of given me a push would it be a silly move to take if taken into account i get 175 a day monday to friday 0 if im not inill with full time permanent job ive got around 52k saved up and save around 500 a week living with my mum a i cant find a reason...   \n",
       "3  financial advice on saving hi folk so im torn about what i should do with my saving i am the following 1 35 year old 2 70k salary 2 live and work in nyc 3 have 100k in student debt that im waiting to have forgiven 4 have 200k in a hysa 5 have 50k in a retirement account 5 zero nonstudent debt i have been saving hard for 10 year and thats how i saved up my 200k my intention wa to use this money...   \n",
       "4  suggestion for spending on a phone what do you suggets for this scenario my company reimburse 30k for new mobile purchase only if you stay in the company for 2 year otherwise would have to return some age back currently have a 5 year old oneplus7 phone but in a well working condition and will probably work for another 2 year will it be a wise decision to purchase iphone 15 for 55k where 30k wi...   \n",
       "\n",
       "                                                                                                                                                                                                                                                                                                                                                                                                      body_stemmed  \n",
       "0  tax dure retir i have been search for thi inform but have not been abl to find an exact answer my mom will be retir next year she will have social secur benefit a pension and a 401k account it look like the first 10 k of social secur benefit is not tax in the hypothet situat of get 22k in ss and 15k pension how much would she pay in tax for her 401k withdraw is it better to withdraw some amoun...  \n",
       "1  withdraw from 401k help i have 40k in my 401k i have set my mind on withdraw 20k i know it a bad idea i am fulli awar of the consequ and i still choos to go thru thi problem i dont have a reason that qualifi me for earli withdraw how can i get my money out do i have to submit the reason whi with proof the 20k will set me debt free and give me peac of mind which i valu the most at thi veri mome...  \n",
       "2  16k car silli choic hello as titl say ive been look around at car at 16k mark and recent thi week my car wa actual stolen so ha now kind of given me a push would it be a silli move to take if taken into account i get 175 a day monday to friday 0 if im not inil with full time perman job ive got around 52k save up and save around 500 a week live with my mum as i cant find a reason hous to buymor...  \n",
       "3  financi advic on save hi folk so im torn about what i should do with my save i am the follow 1 35 year old 2 70k salari 2 live and work in nyc 3 have 100k in student debt that im wait to have forgiven 4 have 200k in a hysa 5 have 50k in a retir account 5 zero nonstud debt i have been save hard for 10 year and that how i save up my 200k my intent wa to use thi money to buy myself some properti ...  \n",
       "4  suggest for spend on a phone what do you sugget for thi scenario my compani reimburs 30k for new mobil purchas onli if you stay in the compani for 2 year otherwis would have to return some age back current have a 5 year old oneplus7 phone but in a well work condit and will probabl work for anoth 2 year will it be a wise decis to purchas iphon 15 for 55k where 30k will be reimburs with probabl ...  "
      ]
     },
     "execution_count": 21,
     "metadata": {},
     "output_type": "execute_result"
    }
   ],
   "source": [
    "# Lemmatization\n",
    "lemmatizer = WordNetLemmatizer()\n",
    "reddit_df['body_lemmatized'] = reddit_df['combined_text'].apply(lambda x: ' '.join([lemmatizer.lemmatize(word) for word in x.split()]))\n",
    "\n",
    "# Lemmatization\n",
    "p_stemmer = PorterStemmer()\n",
    "reddit_df['body_stemmed'] = reddit_df['combined_text'].apply(lambda x: ' '.join([p_stemmer.stem(word) for word in x.split()]))\n",
    "\n",
    "reddit_df.head()"
   ]
  },
  {
   "cell_type": "code",
   "execution_count": 8,
   "id": "4d947786-3474-4289-944c-fcca3b3ddce6",
   "metadata": {},
   "outputs": [],
   "source": [
    "# Split the data based on subreddit\n",
    "investing_posts = reddit_df[reddit_df['subreddit'] == 'investing']['body_lemmatized']\n",
    "personalfinance_posts = reddit_df[reddit_df['subreddit'] == 'personalfinance']['body_lemmatized']"
   ]
  },
  {
   "cell_type": "code",
   "execution_count": 9,
   "id": "a6d4902f-aec0-486a-8872-57e10e5b9eb0",
   "metadata": {},
   "outputs": [],
   "source": [
    "# Vectorize the words for each subreddit\n",
    "vectorizer = CountVectorizer(stop_words='english', max_features=1000)  \n",
    "investing_vectorized = vectorizer.fit_transform(investing_posts)\n",
    "investing_words = vectorizer.get_feature_names_out()\n",
    "investing_word_counts = investing_vectorized.toarray().sum(axis=0)\n",
    "investing_word_freq = dict(zip(investing_words, investing_word_counts))\n",
    "\n",
    "personalfinance_vectorized = vectorizer.fit_transform(personalfinance_posts)\n",
    "personalfinance_words = vectorizer.get_feature_names_out()\n",
    "personalfinance_word_counts = personalfinance_vectorized.toarray().sum(axis=0)\n",
    "personalfinance_word_freq = dict(zip(personalfinance_words, personalfinance_word_counts))"
   ]
  },
  {
   "cell_type": "code",
   "execution_count": 10,
   "id": "bf5f5d80-3644-4645-aa7a-6291618765bc",
   "metadata": {},
   "outputs": [
    {
     "name": "stdout",
     "output_type": "stream",
     "text": [
      "Top 100 common words: [('im', 2760), ('year', 2316), ('money', 1745), ('just', 1720), ('account', 1667), ('wa', 1461), ('like', 1369), ('month', 1294), ('fund', 1202), ('pay', 1135), ('loan', 1082), ('stock', 1080), ('dont', 1059), ('ha', 1027), ('credit', 1007), ('know', 993), ('make', 969), ('want', 957), ('car', 949), ('tax', 939), ('need', 934), ('time', 930), ('saving', 910), ('investment', 872), ('ira', 864), ('payment', 864), ('roth', 864), ('debt', 842), ('ive', 834), ('401k', 833), ('advice', 800), ('card', 749), ('company', 739), ('new', 733), ('plan', 707), ('market', 691), ('rate', 685), ('income', 675), ('house', 673), ('job', 652), ('currently', 646), ('work', 629), ('looking', 627), ('invest', 627), ('home', 620), ('question', 618), ('help', 586), ('retirement', 579), ('investing', 574), ('buy', 557), ('good', 552), ('option', 534), ('financial', 531), ('really', 502), ('insurance', 490), ('cash', 482), ('use', 481), ('mortgage', 481), ('going', 471), ('way', 471), ('current', 456), ('doe', 452), ('think', 443), ('got', 443), ('expense', 435), ('best', 430), ('etf', 426), ('sell', 426), ('paid', 421), ('better', 420), ('thing', 420), ('paying', 419), ('start', 416), ('right', 414), ('long', 387), ('bank', 386), ('monthly', 385), ('high', 376), ('thanks', 372), ('getting', 366), ('share', 364), ('contribution', 362), ('portfolio', 360), ('old', 360), ('feel', 359), ('sure', 357), ('cost', 353), ('total', 343), ('return', 339), ('id', 335), ('live', 333), ('worth', 331), ('term', 331), ('day', 331), ('thought', 330), ('trying', 325), ('lot', 323), ('value', 322), ('10', 315), ('employer', 313)]\n"
     ]
    }
   ],
   "source": [
    "# Find top common words\n",
    "common_words = set(investing_words).intersection(set(personalfinance_words))\n",
    "\n",
    "# Create a dictionary of common words and their total frequencies (summed over both subreddits)\n",
    "common_word_freq = {word: investing_word_freq.get(word, 0) + personalfinance_word_freq.get(word, 0) \n",
    "                    for word in common_words}\n",
    "\n",
    "# Sort the common words by their total frequency and select the top 100\n",
    "top_common_words = sorted(common_word_freq.items(), key=lambda x: x[1], reverse=True)[:100]\n",
    "\n",
    "# Display top 50 common words\n",
    "print(\"Top 100 common words:\", top_common_words)"
   ]
  },
  {
   "cell_type": "code",
   "execution_count": 15,
   "id": "2ee9f811-f044-4947-8138-fee28d336d0c",
   "metadata": {},
   "outputs": [],
   "source": [
    "# List of words to drop\n",
    "words_to_drop = ['im', 'money', 'card', 'just', 'loan', 'credit', 'pay', 'car', 'know', 'ive', 'like', 'year', 'dont', 'account', 'wa', 'like', 'make', 'good', 'got', 'want', 'need']"
   ]
  },
  {
   "cell_type": "code",
   "execution_count": 16,
   "id": "e031e1a2-05f6-4e58-b95a-321a6d4b75cf",
   "metadata": {},
   "outputs": [],
   "source": [
    "# Function to remove words\n",
    "def drop_words(text, words_to_drop):\n",
    "    words = text.split()  \n",
    "    filtered_words = [word for word in words if word not in words_to_drop] \n",
    "    return ' '.join(filtered_words)  "
   ]
  },
  {
   "cell_type": "code",
   "execution_count": 17,
   "id": "eecdf9a4-55dd-4511-b957-e9f1afde140b",
   "metadata": {},
   "outputs": [],
   "source": [
    "# Remove words from body_lemmatized\n",
    "reddit_df['body_lemmatized'] = reddit_df['body_lemmatized'].apply(lambda text: drop_words(text, words_to_drop))"
   ]
  },
  {
   "cell_type": "code",
   "execution_count": 18,
   "id": "7fafedb6-8cd6-4170-a29f-6ec713546bb2",
   "metadata": {},
   "outputs": [
    {
     "name": "stdout",
     "output_type": "stream",
     "text": [
      "Top 20 words in r/investing: [('stock', 819), ('fund', 673), ('investment', 565), ('market', 534), ('ha', 438), ('investing', 432), ('invest', 389), ('roth', 380), ('ira', 371), ('etf', 359), ('company', 356), ('time', 343), ('rate', 319), ('month', 314), ('question', 313), ('portfolio', 288), ('tax', 279), ('buy', 272), ('share', 266), ('advice', 264)]\n",
      "Top 20 words in r/personalfinance: [('month', 980), ('payment', 801), ('debt', 719), ('saving', 694), ('tax', 660), ('401k', 605), ('ha', 589), ('time', 587), ('job', 573), ('home', 562), ('house', 548), ('new', 539), ('plan', 537), ('advice', 536), ('fund', 529), ('ira', 493), ('roth', 484), ('work', 480), ('insurance', 462), ('help', 461)]\n"
     ]
    }
   ],
   "source": [
    "# Get the most frequent words for each subreddit\n",
    "investing_vectorized = vectorizer.fit_transform(reddit_df[reddit_df['subreddit'] == 'investing']['body_lemmatized'])\n",
    "investing_words = vectorizer.get_feature_names_out()\n",
    "investing_word_counts = investing_vectorized.toarray().sum(axis=0)\n",
    "investing_word_freq = dict(zip(investing_words, investing_word_counts))\n",
    "\n",
    "personalfinance_vectorized = vectorizer.fit_transform(reddit_df[reddit_df['subreddit'] == 'personalfinance']['body_lemmatized'])\n",
    "personalfinance_words = vectorizer.get_feature_names_out()\n",
    "personalfinance_word_counts = personalfinance_vectorized.toarray().sum(axis=0)\n",
    "personalfinance_word_freq = dict(zip(personalfinance_words, personalfinance_word_counts))\n",
    "\n",
    "top_investing_words = sorted(investing_word_freq.items(), key=lambda x: x[1], reverse=True)[:20]\n",
    "top_personalfinance_words = sorted(personalfinance_word_freq.items(), key=lambda x: x[1], reverse=True)[:20]\n",
    "\n",
    "print(\"Top 20 words in r/investing:\", top_investing_words)\n",
    "print(\"Top 20 words in r/personalfinance:\", top_personalfinance_words)"
   ]
  },
  {
   "cell_type": "markdown",
   "id": "a87aaad1-b2aa-43e8-a9b3-a2f4a3403c67",
   "metadata": {},
   "source": [
    "#### What are the unique words in each subreddit?"
   ]
  },
  {
   "cell_type": "code",
   "execution_count": 24,
   "id": "cd23541a-f4e9-4ef1-9800-168e1b77991f",
   "metadata": {},
   "outputs": [
    {
     "name": "stdout",
     "output_type": "stream",
     "text": [
      "Top 20 Unique Words in r/investing: [('investor', 147), ('resource', 111), ('trading', 106), ('list', 98), ('relevant', 94), ('useful', 93), ('sampp', 87), ('wiki', 86), ('level', 86), ('sector', 85), ('trade', 82), ('allocation', 77), ('daily', 71), ('vti', 70), ('exposure', 68), ('data', 68), ('world', 65), ('discussion', 64), ('international', 61), ('horizon', 59)]\n",
      "Top 20 Unique Words in r/personalfinance: [('vehicle', 177), ('owe', 144), ('afford', 111), ('cc', 95), ('deductible', 94), ('auto', 89), ('apr', 86), ('collection', 84), ('policy', 80), ('charge', 79), ('phone', 76), ('claim', 74), ('refinance', 73), ('file', 72), ('repair', 71), ('food', 70), ('asked', 70), ('truck', 68), ('mile', 66), ('15k', 63)]\n"
     ]
    }
   ],
   "source": [
    "# Convert to set\n",
    "investing_set = set(investing_words)\n",
    "personalfinance_set = set(personalfinance_words)\n",
    "\n",
    "# Find unique words\n",
    "unique_investing = investing_set - personalfinance_set\n",
    "unique_personalfinance = personalfinance_set - investing_set\n",
    "\n",
    "\n",
    "unique_investing_freq = {word: investing_word_freq[word] for word in unique_investing}\n",
    "unique_personalfinance_freq = {word: personalfinance_word_freq[word] for word in unique_personalfinance}\n",
    "\n",
    "top_investing_unique = sorted(unique_investing_freq.items(), key=lambda x: x[1], reverse=True)[:20]\n",
    "top_personalfinance_unique = sorted(unique_personalfinance_freq.items(), key=lambda x: x[1], reverse=True)[:20]\n",
    "\n",
    "print(\"Top 20 Unique Words in r/investing:\", top_investing_unique)\n",
    "print(\"Top 20 Unique Words in r/personalfinance:\", top_personalfinance_unique)\n",
    "\n"
   ]
  },
  {
   "cell_type": "code",
   "execution_count": 37,
   "id": "6a3daa6b-0c0b-4ab2-b9ab-8acaf0cafd5e",
   "metadata": {},
   "outputs": [
    {
     "data": {
      "image/png": "[encoded data removed]",
      "text/plain": [
       "<Figure size 1000x600 with 1 Axes>"
      ]
     },
     "metadata": {},
     "output_type": "display_data"
    }
   ],
   "source": [
    "words = [item[0] for item in top_investing_unique]\n",
    "counts = [item[1] for item in top_investing_unique]\n",
    "\n",
    "plt.figure(figsize=(10, 6))\n",
    "sns.barplot(x=words, y=counts)\n",
    "plt.title('Top Unique Words in r/investing', fontsize=16)\n",
    "plt.xlabel('Words', fontsize=12)\n",
    "plt.xticks(rotation=90)\n",
    "plt.ylabel('Frequency', fontsize=12)\n",
    "plt.tight_layout()\n",
    "plt.savefig(f'../images/top_investing_unique.png', bbox_inches='tight')\n",
    "plt.show()"
   ]
  },
  {
   "cell_type": "code",
   "execution_count": 38,
   "id": "85cd62a5-fdda-4cc7-be85-f15f1c1f888a",
   "metadata": {},
   "outputs": [
    {
     "data": {
      "image/png": "[encoded data removed]",
      "text/plain": [
       "<Figure size 1000x600 with 1 Axes>"
      ]
     },
     "metadata": {},
     "output_type": "display_data"
    }
   ],
   "source": [
    "words = [item[0] for item in top_personalfinance_unique]\n",
    "counts = [item[1] for item in top_personalfinance_unique]\n",
    "\n",
    "plt.figure(figsize=(10, 6))\n",
    "sns.barplot(x=words, y=counts)\n",
    "plt.title('Top Unique Words in r/personalfinance', fontsize=16)\n",
    "plt.xlabel('Words', fontsize=12)\n",
    "plt.xticks(rotation=90)\n",
    "plt.ylabel('Frequency', fontsize=12)\n",
    "plt.tight_layout()\n",
    "plt.savefig(f'../images/top_personalfinance_unique.png', bbox_inches='tight')\n",
    "plt.show()"
   ]
  },
  {
   "cell_type": "code",
   "execution_count": 25,
   "id": "dc04aaae-ecc5-45d9-9dcc-ff6cf5c385f9",
   "metadata": {},
   "outputs": [],
   "source": [
    "# Unique words for each subreddit\n",
    "unique_investing_words = ['investor', 'resource', 'trading', 'list', 'relevant', 'useful', 'wiki', 'sampp', 'level', 'sector', 'trade', 'allocation', 'daily', 'vti', 'exposure', 'data', 'world', 'discussion', 'international', 'horizon']  \n",
    "unique_personalfinance_words = ['vehicle', 'owe', 'afford', 'cc', 'deductible', 'auto', 'apr', 'collection', 'policy', 'charge', 'phone', 'claim', 'refinance', 'file', 'repair', 'food', 'asked', 'truck', 'mile', '15k']  "
   ]
  },
  {
   "cell_type": "code",
   "execution_count": 23,
   "id": "57e75a57-d2ec-494f-afde-e0c3cda0d32f",
   "metadata": {},
   "outputs": [],
   "source": [
    "# Save new data frame \n",
    "reddit_df.to_csv('../data/preprocessed-data.csv', index=False)"
   ]
  },
  {
   "cell_type": "code",
   "execution_count": null,
   "id": "f8cf8d7c-7dea-462b-90b4-74d2de21a43a",
   "metadata": {},
   "outputs": [],
   "source": []
  }
 ],
 "metadata": {
  "kernelspec": {
   "display_name": "Python 3 (ipykernel)",
   "language": "python",
   "name": "python3"
  },
  "language_info": {
   "codemirror_mode": {
    "name": "ipython",
    "version": 3
   },
   "file_extension": ".py",
   "mimetype": "text/x-python",
   "name": "python",
   "nbconvert_exporter": "python",
   "pygments_lexer": "ipython3",
   "version": "3.11.9"
  }
 },
 "nbformat": 4,
 "nbformat_minor": 5
}
