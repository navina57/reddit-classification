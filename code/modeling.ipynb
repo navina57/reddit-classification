{
 "cells": [
  {
   "cell_type": "markdown",
   "id": "e73c9535-6ec9-465b-980d-ca251fb011c3",
   "metadata": {},
   "source": [
    "## Imports "
   ]
  },
  {
   "cell_type": "code",
   "execution_count": 182,
   "id": "28d9aa3b-3a2d-4388-bc88-5904ab656ce2",
   "metadata": {},
   "outputs": [],
   "source": [
    "# Basics\n",
    "import pandas as pd \n",
    "import numpy as np \n",
    "import seaborn as sns \n",
    "import matplotlib.pyplot as plt \n",
    "\n",
    "# for tokenizing and lemmantizing\n",
    "from nltk.tokenize import sent_tokenize, word_tokenize, RegexpTokenizer\n",
    "from nltk.stem import WordNetLemmatizer\n",
    "from nltk.stem.porter import PorterStemmer\n",
    "from nltk.corpus import stopwords\n",
    "from nltk.sentiment.vader import SentimentIntensityAnalyzer\n",
    "import re\n",
    "\n",
    "# for models \n",
    "from sklearn.model_selection import train_test_split, GridSearchCV, cross_val_score\n",
    "from sklearn.pipeline import Pipeline\n",
    "from sklearn.naive_bayes import MultinomialNB\n",
    "from sklearn.linear_model import LogisticRegression\n",
    "from sklearn.ensemble import RandomForestClassifier, ExtraTreesClassifier\n",
    "from sklearn.metrics import confusion_matrix\n",
    "from sklearn.preprocessing import StandardScaler\n",
    "from sklearn.metrics import classification_report, confusion_matrix, ConfusionMatrixDisplay\n",
    "\n",
    "from sklearn.feature_extraction.text import CountVectorizer, TfidfVectorizer"
   ]
  },
  {
   "cell_type": "markdown",
   "id": "e8b5676c-9df0-4ff2-9c45-84bef01ec321",
   "metadata": {},
   "source": [
    "## Load Data"
   ]
  },
  {
   "cell_type": "code",
   "execution_count": 84,
   "id": "66c0d64c-53cb-4e85-a83f-22344a0a0d40",
   "metadata": {},
   "outputs": [
    {
     "data": {
      "text/html": [
       "<div>\n",
       "<style scoped>\n",
       "    .dataframe tbody tr th:only-of-type {\n",
       "        vertical-align: middle;\n",
       "    }\n",
       "\n",
       "    .dataframe tbody tr th {\n",
       "        vertical-align: top;\n",
       "    }\n",
       "\n",
       "    .dataframe thead th {\n",
       "        text-align: right;\n",
       "    }\n",
       "</style>\n",
       "<table border=\"1\" class=\"dataframe\">\n",
       "  <thead>\n",
       "    <tr style=\"text-align: right;\">\n",
       "      <th></th>\n",
       "      <th>subreddit</th>\n",
       "      <th>title</th>\n",
       "      <th>body</th>\n",
       "      <th>created</th>\n",
       "      <th>score</th>\n",
       "      <th>num_comments</th>\n",
       "      <th>id</th>\n",
       "      <th>combined_text</th>\n",
       "      <th>body_length</th>\n",
       "      <th>body_word_count</th>\n",
       "      <th>body_lemmatized</th>\n",
       "      <th>body_stemmed</th>\n",
       "    </tr>\n",
       "  </thead>\n",
       "  <tbody>\n",
       "    <tr>\n",
       "      <th>0</th>\n",
       "      <td>personalfinance</td>\n",
       "      <td>taxes during retirement</td>\n",
       "      <td>i have been searching for this information but...</td>\n",
       "      <td>1.728232e+09</td>\n",
       "      <td>1</td>\n",
       "      <td>2</td>\n",
       "      <td>1fxkhfd</td>\n",
       "      <td>taxes during retirement  i have been searching...</td>\n",
       "      <td>712</td>\n",
       "      <td>131</td>\n",
       "      <td>tax during retirement i have been searching fo...</td>\n",
       "      <td>tax dure retir i have been search for thi info...</td>\n",
       "    </tr>\n",
       "    <tr>\n",
       "      <th>1</th>\n",
       "      <td>personalfinance</td>\n",
       "      <td>withdraw from 401k  help</td>\n",
       "      <td>i have 40k in my 401k i have set my mind on wi...</td>\n",
       "      <td>1.728231e+09</td>\n",
       "      <td>0</td>\n",
       "      <td>4</td>\n",
       "      <td>1fxk5ml</td>\n",
       "      <td>withdraw from 401k  help i have 40k in my 401k...</td>\n",
       "      <td>400</td>\n",
       "      <td>88</td>\n",
       "      <td>withdraw from 401k help i have 40k in my 401k ...</td>\n",
       "      <td>withdraw from 401k help i have 40k in my 401k ...</td>\n",
       "    </tr>\n",
       "    <tr>\n",
       "      <th>2</th>\n",
       "      <td>personalfinance</td>\n",
       "      <td>16k car silly choice</td>\n",
       "      <td>hello as title says ive been looking around at...</td>\n",
       "      <td>1.728231e+09</td>\n",
       "      <td>1</td>\n",
       "      <td>2</td>\n",
       "      <td>1fxk4qv</td>\n",
       "      <td>16k car silly choice hello as title says ive b...</td>\n",
       "      <td>603</td>\n",
       "      <td>127</td>\n",
       "      <td>16k car silly choice hello a title say ive bee...</td>\n",
       "      <td>16k car silli choic hello as titl say ive been...</td>\n",
       "    </tr>\n",
       "    <tr>\n",
       "      <th>3</th>\n",
       "      <td>personalfinance</td>\n",
       "      <td>financial advice on savings</td>\n",
       "      <td>hi folks\\n\\nso im torn about what i should do ...</td>\n",
       "      <td>1.728231e+09</td>\n",
       "      <td>1</td>\n",
       "      <td>2</td>\n",
       "      <td>1fxk29l</td>\n",
       "      <td>financial advice on savings hi folks\\n\\nso im ...</td>\n",
       "      <td>733</td>\n",
       "      <td>147</td>\n",
       "      <td>financial advice on saving hi folk so im torn ...</td>\n",
       "      <td>financi advic on save hi folk so im torn about...</td>\n",
       "    </tr>\n",
       "    <tr>\n",
       "      <th>4</th>\n",
       "      <td>personalfinance</td>\n",
       "      <td>suggestion for spending on a phone</td>\n",
       "      <td>what do you suggets for this scenario\\nmy comp...</td>\n",
       "      <td>1.728230e+09</td>\n",
       "      <td>0</td>\n",
       "      <td>0</td>\n",
       "      <td>1fxjtot</td>\n",
       "      <td>suggestion for spending on a phone what do you...</td>\n",
       "      <td>713</td>\n",
       "      <td>136</td>\n",
       "      <td>suggestion for spending on a phone what do you...</td>\n",
       "      <td>suggest for spend on a phone what do you sugge...</td>\n",
       "    </tr>\n",
       "  </tbody>\n",
       "</table>\n",
       "</div>"
      ],
      "text/plain": [
       "         subreddit                               title  \\\n",
       "0  personalfinance            taxes during retirement    \n",
       "1  personalfinance            withdraw from 401k  help   \n",
       "2  personalfinance                16k car silly choice   \n",
       "3  personalfinance         financial advice on savings   \n",
       "4  personalfinance  suggestion for spending on a phone   \n",
       "\n",
       "                                                body       created  score  \\\n",
       "0  i have been searching for this information but...  1.728232e+09      1   \n",
       "1  i have 40k in my 401k i have set my mind on wi...  1.728231e+09      0   \n",
       "2  hello as title says ive been looking around at...  1.728231e+09      1   \n",
       "3  hi folks\\n\\nso im torn about what i should do ...  1.728231e+09      1   \n",
       "4  what do you suggets for this scenario\\nmy comp...  1.728230e+09      0   \n",
       "\n",
       "   num_comments       id                                      combined_text  \\\n",
       "0             2  1fxkhfd  taxes during retirement  i have been searching...   \n",
       "1             4  1fxk5ml  withdraw from 401k  help i have 40k in my 401k...   \n",
       "2             2  1fxk4qv  16k car silly choice hello as title says ive b...   \n",
       "3             2  1fxk29l  financial advice on savings hi folks\\n\\nso im ...   \n",
       "4             0  1fxjtot  suggestion for spending on a phone what do you...   \n",
       "\n",
       "   body_length  body_word_count  \\\n",
       "0          712              131   \n",
       "1          400               88   \n",
       "2          603              127   \n",
       "3          733              147   \n",
       "4          713              136   \n",
       "\n",
       "                                     body_lemmatized  \\\n",
       "0  tax during retirement i have been searching fo...   \n",
       "1  withdraw from 401k help i have 40k in my 401k ...   \n",
       "2  16k car silly choice hello a title say ive bee...   \n",
       "3  financial advice on saving hi folk so im torn ...   \n",
       "4  suggestion for spending on a phone what do you...   \n",
       "\n",
       "                                        body_stemmed  \n",
       "0  tax dure retir i have been search for thi info...  \n",
       "1  withdraw from 401k help i have 40k in my 401k ...  \n",
       "2  16k car silli choic hello as titl say ive been...  \n",
       "3  financi advic on save hi folk so im torn about...  \n",
       "4  suggest for spend on a phone what do you sugge...  "
      ]
     },
     "execution_count": 84,
     "metadata": {},
     "output_type": "execute_result"
    }
   ],
   "source": [
    "reddit_df = pd.read_csv('../data/preprocessed-data.csv')\n",
    "reddit_df.head()"
   ]
  },
  {
   "cell_type": "code",
   "execution_count": 85,
   "id": "56a3e7f9-75fc-46a5-b762-21d82dddcba0",
   "metadata": {},
   "outputs": [
    {
     "data": {
      "text/plain": [
       "(2638, 12)"
      ]
     },
     "execution_count": 85,
     "metadata": {},
     "output_type": "execute_result"
    }
   ],
   "source": [
    "reddit_df.shape"
   ]
  },
  {
   "cell_type": "code",
   "execution_count": 86,
   "id": "e4cbc509-6726-4eac-b480-db15e2644ae9",
   "metadata": {},
   "outputs": [
    {
     "data": {
      "text/plain": [
       "subreddit           0\n",
       "title               0\n",
       "body                0\n",
       "created            72\n",
       "score               0\n",
       "num_comments        0\n",
       "id                  0\n",
       "combined_text       0\n",
       "body_length         0\n",
       "body_word_count     0\n",
       "body_lemmatized     0\n",
       "body_stemmed        0\n",
       "dtype: int64"
      ]
     },
     "execution_count": 86,
     "metadata": {},
     "output_type": "execute_result"
    }
   ],
   "source": [
    "reddit_df.isnull().sum()"
   ]
  },
  {
   "cell_type": "code",
   "execution_count": 87,
   "id": "f601443c-4c68-43c5-9ae1-8d3564d44072",
   "metadata": {},
   "outputs": [
    {
     "data": {
      "text/plain": [
       "(2638, 12)"
      ]
     },
     "execution_count": 87,
     "metadata": {},
     "output_type": "execute_result"
    }
   ],
   "source": [
    "# drop rows with no body \n",
    "reddit_df.dropna(subset = ['body'], inplace = True)\n",
    "reddit_df.shape"
   ]
  },
  {
   "cell_type": "markdown",
   "id": "03816e7b-87af-4d78-bad6-ce8e8e87522f",
   "metadata": {},
   "source": [
    "## Text Preprocessing \n",
    "> * Create target column "
   ]
  },
  {
   "cell_type": "code",
   "execution_count": 88,
   "id": "898192d1-28c9-4e20-a973-acadbc150501",
   "metadata": {},
   "outputs": [
    {
     "data": {
      "text/html": [
       "<div>\n",
       "<style scoped>\n",
       "    .dataframe tbody tr th:only-of-type {\n",
       "        vertical-align: middle;\n",
       "    }\n",
       "\n",
       "    .dataframe tbody tr th {\n",
       "        vertical-align: top;\n",
       "    }\n",
       "\n",
       "    .dataframe thead th {\n",
       "        text-align: right;\n",
       "    }\n",
       "</style>\n",
       "<table border=\"1\" class=\"dataframe\">\n",
       "  <thead>\n",
       "    <tr style=\"text-align: right;\">\n",
       "      <th></th>\n",
       "      <th>subreddit</th>\n",
       "      <th>title</th>\n",
       "      <th>body</th>\n",
       "      <th>created</th>\n",
       "      <th>score</th>\n",
       "      <th>num_comments</th>\n",
       "      <th>id</th>\n",
       "      <th>combined_text</th>\n",
       "      <th>body_length</th>\n",
       "      <th>body_word_count</th>\n",
       "      <th>body_lemmatized</th>\n",
       "      <th>body_stemmed</th>\n",
       "      <th>target</th>\n",
       "    </tr>\n",
       "  </thead>\n",
       "  <tbody>\n",
       "    <tr>\n",
       "      <th>0</th>\n",
       "      <td>personalfinance</td>\n",
       "      <td>taxes during retirement</td>\n",
       "      <td>i have been searching for this information but...</td>\n",
       "      <td>1.728232e+09</td>\n",
       "      <td>1</td>\n",
       "      <td>2</td>\n",
       "      <td>1fxkhfd</td>\n",
       "      <td>taxes during retirement  i have been searching...</td>\n",
       "      <td>712</td>\n",
       "      <td>131</td>\n",
       "      <td>tax during retirement i have been searching fo...</td>\n",
       "      <td>tax dure retir i have been search for thi info...</td>\n",
       "      <td>1</td>\n",
       "    </tr>\n",
       "    <tr>\n",
       "      <th>1</th>\n",
       "      <td>personalfinance</td>\n",
       "      <td>withdraw from 401k  help</td>\n",
       "      <td>i have 40k in my 401k i have set my mind on wi...</td>\n",
       "      <td>1.728231e+09</td>\n",
       "      <td>0</td>\n",
       "      <td>4</td>\n",
       "      <td>1fxk5ml</td>\n",
       "      <td>withdraw from 401k  help i have 40k in my 401k...</td>\n",
       "      <td>400</td>\n",
       "      <td>88</td>\n",
       "      <td>withdraw from 401k help i have 40k in my 401k ...</td>\n",
       "      <td>withdraw from 401k help i have 40k in my 401k ...</td>\n",
       "      <td>1</td>\n",
       "    </tr>\n",
       "    <tr>\n",
       "      <th>2</th>\n",
       "      <td>personalfinance</td>\n",
       "      <td>16k car silly choice</td>\n",
       "      <td>hello as title says ive been looking around at...</td>\n",
       "      <td>1.728231e+09</td>\n",
       "      <td>1</td>\n",
       "      <td>2</td>\n",
       "      <td>1fxk4qv</td>\n",
       "      <td>16k car silly choice hello as title says ive b...</td>\n",
       "      <td>603</td>\n",
       "      <td>127</td>\n",
       "      <td>16k car silly choice hello a title say ive bee...</td>\n",
       "      <td>16k car silli choic hello as titl say ive been...</td>\n",
       "      <td>1</td>\n",
       "    </tr>\n",
       "    <tr>\n",
       "      <th>3</th>\n",
       "      <td>personalfinance</td>\n",
       "      <td>financial advice on savings</td>\n",
       "      <td>hi folks\\n\\nso im torn about what i should do ...</td>\n",
       "      <td>1.728231e+09</td>\n",
       "      <td>1</td>\n",
       "      <td>2</td>\n",
       "      <td>1fxk29l</td>\n",
       "      <td>financial advice on savings hi folks\\n\\nso im ...</td>\n",
       "      <td>733</td>\n",
       "      <td>147</td>\n",
       "      <td>financial advice on saving hi folk so im torn ...</td>\n",
       "      <td>financi advic on save hi folk so im torn about...</td>\n",
       "      <td>1</td>\n",
       "    </tr>\n",
       "    <tr>\n",
       "      <th>4</th>\n",
       "      <td>personalfinance</td>\n",
       "      <td>suggestion for spending on a phone</td>\n",
       "      <td>what do you suggets for this scenario\\nmy comp...</td>\n",
       "      <td>1.728230e+09</td>\n",
       "      <td>0</td>\n",
       "      <td>0</td>\n",
       "      <td>1fxjtot</td>\n",
       "      <td>suggestion for spending on a phone what do you...</td>\n",
       "      <td>713</td>\n",
       "      <td>136</td>\n",
       "      <td>suggestion for spending on a phone what do you...</td>\n",
       "      <td>suggest for spend on a phone what do you sugge...</td>\n",
       "      <td>1</td>\n",
       "    </tr>\n",
       "  </tbody>\n",
       "</table>\n",
       "</div>"
      ],
      "text/plain": [
       "         subreddit                               title  \\\n",
       "0  personalfinance            taxes during retirement    \n",
       "1  personalfinance            withdraw from 401k  help   \n",
       "2  personalfinance                16k car silly choice   \n",
       "3  personalfinance         financial advice on savings   \n",
       "4  personalfinance  suggestion for spending on a phone   \n",
       "\n",
       "                                                body       created  score  \\\n",
       "0  i have been searching for this information but...  1.728232e+09      1   \n",
       "1  i have 40k in my 401k i have set my mind on wi...  1.728231e+09      0   \n",
       "2  hello as title says ive been looking around at...  1.728231e+09      1   \n",
       "3  hi folks\\n\\nso im torn about what i should do ...  1.728231e+09      1   \n",
       "4  what do you suggets for this scenario\\nmy comp...  1.728230e+09      0   \n",
       "\n",
       "   num_comments       id                                      combined_text  \\\n",
       "0             2  1fxkhfd  taxes during retirement  i have been searching...   \n",
       "1             4  1fxk5ml  withdraw from 401k  help i have 40k in my 401k...   \n",
       "2             2  1fxk4qv  16k car silly choice hello as title says ive b...   \n",
       "3             2  1fxk29l  financial advice on savings hi folks\\n\\nso im ...   \n",
       "4             0  1fxjtot  suggestion for spending on a phone what do you...   \n",
       "\n",
       "   body_length  body_word_count  \\\n",
       "0          712              131   \n",
       "1          400               88   \n",
       "2          603              127   \n",
       "3          733              147   \n",
       "4          713              136   \n",
       "\n",
       "                                     body_lemmatized  \\\n",
       "0  tax during retirement i have been searching fo...   \n",
       "1  withdraw from 401k help i have 40k in my 401k ...   \n",
       "2  16k car silly choice hello a title say ive bee...   \n",
       "3  financial advice on saving hi folk so im torn ...   \n",
       "4  suggestion for spending on a phone what do you...   \n",
       "\n",
       "                                        body_stemmed  target  \n",
       "0  tax dure retir i have been search for thi info...       1  \n",
       "1  withdraw from 401k help i have 40k in my 401k ...       1  \n",
       "2  16k car silli choic hello as titl say ive been...       1  \n",
       "3  financi advic on save hi folk so im torn about...       1  \n",
       "4  suggest for spend on a phone what do you sugge...       1  "
      ]
     },
     "execution_count": 88,
     "metadata": {},
     "output_type": "execute_result"
    }
   ],
   "source": [
    "# Create target column \n",
    "reddit_df['target'] = reddit_df['subreddit'].map({'personalfinance': 1, 'investing': 0})\n",
    "reddit_df.head()"
   ]
  },
  {
   "cell_type": "code",
   "execution_count": 111,
   "id": "22307950-df67-4541-a528-3d4b6ce56efe",
   "metadata": {},
   "outputs": [],
   "source": [
    "# Unique words for each subreddit\n",
    "unique_investing_words = ['investor', 'resource', 'trading', 'list', 'relevant', 'useful', 'wiki', 'sampp', 'level', 'sector', 'trade', 'allocation', 'daily', 'vti', 'exposure', 'data', 'world', 'discussion', 'international', 'horizon']  \n",
    "unique_personalfinance_words = ['vehicle', 'owe', 'afford', 'cc', 'deductible', 'auto', 'apr', 'collection', 'policy', 'charge', 'phone', 'claim', 'refinance', 'file', 'repair', 'food', 'asked', 'truck', 'mile', '15k']  \n",
    "\n",
    "# Combine\n",
    "unique_words = unique_investing_words + unique_personalfinance_words"
   ]
  },
  {
   "cell_type": "code",
   "execution_count": 216,
   "id": "2c1891de-72a3-4277-81f6-c37a44114eee",
   "metadata": {},
   "outputs": [],
   "source": [
    "# Function to plot confusion matrix\n",
    "def plot_confusion_matrix(y_true, y_pred, model_name): \n",
    "    conf_matrix = confusion_matrix(y_true, y_pred)\n",
    "    disp = ConfusionMatrixDisplay(confusion_matrix = conf_matrix)\n",
    "    disp.plot(cmap = plt.cm.Blues)\n",
    "    plt.title(f'Confusion Matrix for {model_name}')\n",
    "    plt.savefig(f'../images/{model_name}-confusion-matrix.png', bbox_inches='tight')\n",
    "    plt.tight_layout()\n",
    "    plt.show"
   ]
  },
  {
   "cell_type": "markdown",
   "id": "0e7e8d80-be99-4a31-9cec-f7db3f41c105",
   "metadata": {},
   "source": [
    "## Train-test split "
   ]
  },
  {
   "cell_type": "code",
   "execution_count": 89,
   "id": "1c9c06fe-279a-47d7-94cd-5ac92a961a67",
   "metadata": {},
   "outputs": [],
   "source": [
    "X = reddit_df['body_lemmatized']\n",
    "y = reddit_df['target']"
   ]
  },
  {
   "cell_type": "code",
   "execution_count": 90,
   "id": "43953991-f7f2-4601-8f0f-b43fc0ed287a",
   "metadata": {},
   "outputs": [
    {
     "data": {
      "text/plain": [
       "target\n",
       "1    0.59856\n",
       "0    0.40144\n",
       "Name: proportion, dtype: float64"
      ]
     },
     "execution_count": 90,
     "metadata": {},
     "output_type": "execute_result"
    }
   ],
   "source": [
    "y.value_counts(normalize = True)"
   ]
  },
  {
   "cell_type": "code",
   "execution_count": 91,
   "id": "f6f0cdab-1496-41ec-a639-9dbc4cd065f5",
   "metadata": {},
   "outputs": [],
   "source": [
    "X_train, X_test, y_train, y_test = train_test_split(X,\n",
    "                                                    y,\n",
    "                                                    test_size=0.2,\n",
    "                                                    stratify=y,\n",
    "                                                    random_state=42)"
   ]
  },
  {
   "cell_type": "markdown",
   "id": "99cbb7d8-2c69-467f-a0c7-c60571c5eef7",
   "metadata": {},
   "source": [
    "### Model Selection \n",
    "> * **Logistic Regression**: Binary classifcation problems, baseline model\n",
    "> * **Naive Bayes**\n",
    "> * Other Possible Models to explore: \n",
    "> * Support Vector Machine\n",
    "> * Random Forests\n",
    "> * XGBoost "
   ]
  },
  {
   "cell_type": "markdown",
   "id": "49cd582b-f18c-43dd-9879-48bba97f35b8",
   "metadata": {},
   "source": [
    "## Model Training and Evaluation"
   ]
  },
  {
   "cell_type": "markdown",
   "id": "175b5ee9-9770-494b-b947-bba1f3e3b417",
   "metadata": {},
   "source": [
    "### Logistic Regression Model, CountVectorizer\n",
    "\n",
    "> This is my baseline model. Logistic Regression is a simple, interpretable model that acts as a benchmark before diving into more complex models. In this case, the Logistic Regression model performed fairly well with CountVectorizer. This model acheived high accuracy, precision and recall making it a great starting point to compare the rest of our models to."
   ]
  },
  {
   "cell_type": "code",
   "execution_count": 131,
   "id": "dbf0dc12-1843-4354-a5e7-e26878692036",
   "metadata": {},
   "outputs": [],
   "source": [
    "# Baseline model: Logistic Regression, with CountVectorizer \n",
    "pipe = Pipeline([\n",
    "    ('cvec', CountVectorizer()),\n",
    "    ('scaler', StandardScaler(with_mean=False)), \n",
    "    ('lr', LogisticRegression(max_iter = 500))\n",
    "])"
   ]
  },
  {
   "cell_type": "code",
   "execution_count": 93,
   "id": "7c723d1a-1041-4aee-8880-50ffcb6e14e8",
   "metadata": {},
   "outputs": [],
   "source": [
    "# Pipe parameters\n",
    "pipe_params = {\n",
    "    'cvec__max_features': [500, 1000, 1500, 2000], \n",
    "    'cvec__stop_words': [None, 'english'], \n",
    "    'cvec__ngram_range': [(1,1),(1,2)],\n",
    "    'cvec__lowercase': [True],\n",
    "    'lr__C': [0.01, 0.1, 1, 10],  \n",
    "    'lr__penalty': ['l1', 'l2'], \n",
    "    'lr__solver': ['liblinear']\n",
    "}"
   ]
  },
  {
   "cell_type": "code",
   "execution_count": 94,
   "id": "7d1ad840-a152-4aec-b1c6-dcc0c49a04d0",
   "metadata": {},
   "outputs": [],
   "source": [
    "# Instantiate GridSearchCV.\n",
    "gs = GridSearchCV(pipe, \n",
    "                  pipe_params, \n",
    "                  cv = 5) "
   ]
  },
  {
   "cell_type": "code",
   "execution_count": 95,
   "id": "3d8a9c2a-cde5-4865-bcd5-0394816ee17f",
   "metadata": {},
   "outputs": [
    {
     "data": {
      "text/html": [
       "<style>#sk-container-id-3 {color: black;background-color: white;}#sk-container-id-3 pre{padding: 0;}#sk-container-id-3 div.sk-toggleable {background-color: white;}#sk-container-id-3 label.sk-toggleable__label {cursor: pointer;display: block;width: 100%;margin-bottom: 0;padding: 0.3em;box-sizing: border-box;text-align: center;}#sk-container-id-3 label.sk-toggleable__label-arrow:before {content: \"▸\";float: left;margin-right: 0.25em;color: #696969;}#sk-container-id-3 label.sk-toggleable__label-arrow:hover:before {color: black;}#sk-container-id-3 div.sk-estimator:hover label.sk-toggleable__label-arrow:before {color: black;}#sk-container-id-3 div.sk-toggleable__content {max-height: 0;max-width: 0;overflow: hidden;text-align: left;background-color: #f0f8ff;}#sk-container-id-3 div.sk-toggleable__content pre {margin: 0.2em;color: black;border-radius: 0.25em;background-color: #f0f8ff;}#sk-container-id-3 input.sk-toggleable__control:checked~div.sk-toggleable__content {max-height: 200px;max-width: 100%;overflow: auto;}#sk-container-id-3 input.sk-toggleable__control:checked~label.sk-toggleable__label-arrow:before {content: \"▾\";}#sk-container-id-3 div.sk-estimator input.sk-toggleable__control:checked~label.sk-toggleable__label {background-color: #d4ebff;}#sk-container-id-3 div.sk-label input.sk-toggleable__control:checked~label.sk-toggleable__label {background-color: #d4ebff;}#sk-container-id-3 input.sk-hidden--visually {border: 0;clip: rect(1px 1px 1px 1px);clip: rect(1px, 1px, 1px, 1px);height: 1px;margin: -1px;overflow: hidden;padding: 0;position: absolute;width: 1px;}#sk-container-id-3 div.sk-estimator {font-family: monospace;background-color: #f0f8ff;border: 1px dotted black;border-radius: 0.25em;box-sizing: border-box;margin-bottom: 0.5em;}#sk-container-id-3 div.sk-estimator:hover {background-color: #d4ebff;}#sk-container-id-3 div.sk-parallel-item::after {content: \"\";width: 100%;border-bottom: 1px solid gray;flex-grow: 1;}#sk-container-id-3 div.sk-label:hover label.sk-toggleable__label {background-color: #d4ebff;}#sk-container-id-3 div.sk-serial::before {content: \"\";position: absolute;border-left: 1px solid gray;box-sizing: border-box;top: 0;bottom: 0;left: 50%;z-index: 0;}#sk-container-id-3 div.sk-serial {display: flex;flex-direction: column;align-items: center;background-color: white;padding-right: 0.2em;padding-left: 0.2em;position: relative;}#sk-container-id-3 div.sk-item {position: relative;z-index: 1;}#sk-container-id-3 div.sk-parallel {display: flex;align-items: stretch;justify-content: center;background-color: white;position: relative;}#sk-container-id-3 div.sk-item::before, #sk-container-id-3 div.sk-parallel-item::before {content: \"\";position: absolute;border-left: 1px solid gray;box-sizing: border-box;top: 0;bottom: 0;left: 50%;z-index: -1;}#sk-container-id-3 div.sk-parallel-item {display: flex;flex-direction: column;z-index: 1;position: relative;background-color: white;}#sk-container-id-3 div.sk-parallel-item:first-child::after {align-self: flex-end;width: 50%;}#sk-container-id-3 div.sk-parallel-item:last-child::after {align-self: flex-start;width: 50%;}#sk-container-id-3 div.sk-parallel-item:only-child::after {width: 0;}#sk-container-id-3 div.sk-dashed-wrapped {border: 1px dashed gray;margin: 0 0.4em 0.5em 0.4em;box-sizing: border-box;padding-bottom: 0.4em;background-color: white;}#sk-container-id-3 div.sk-label label {font-family: monospace;font-weight: bold;display: inline-block;line-height: 1.2em;}#sk-container-id-3 div.sk-label-container {text-align: center;}#sk-container-id-3 div.sk-container {/* jupyter's `normalize.less` sets `[hidden] { display: none; }` but bootstrap.min.css set `[hidden] { display: none !important; }` so we also need the `!important` here to be able to override the default hidden behavior on the sphinx rendered scikit-learn.org. See: https://github.com/scikit-learn/scikit-learn/issues/21755 */display: inline-block !important;position: relative;}#sk-container-id-3 div.sk-text-repr-fallback {display: none;}</style><div id=\"sk-container-id-3\" class=\"sk-top-container\"><div class=\"sk-text-repr-fallback\"><pre>GridSearchCV(cv=5,\n",
       "             estimator=Pipeline(steps=[(&#x27;cvec&#x27;, CountVectorizer()),\n",
       "                                       (&#x27;scaler&#x27;,\n",
       "                                        StandardScaler(with_mean=False)),\n",
       "                                       (&#x27;lr&#x27;,\n",
       "                                        LogisticRegression(max_iter=500))]),\n",
       "             param_grid={&#x27;cvec__lowercase&#x27;: [True],\n",
       "                         &#x27;cvec__max_features&#x27;: [500, 1000, 1500, 2000],\n",
       "                         &#x27;cvec__ngram_range&#x27;: [(1, 1), (1, 2)],\n",
       "                         &#x27;cvec__stop_words&#x27;: [None, &#x27;english&#x27;],\n",
       "                         &#x27;lr__C&#x27;: [0.01, 0.1, 1, 10],\n",
       "                         &#x27;lr__penalty&#x27;: [&#x27;l1&#x27;, &#x27;l2&#x27;],\n",
       "                         &#x27;lr__solver&#x27;: [&#x27;liblinear&#x27;]})</pre><b>In a Jupyter environment, please rerun this cell to show the HTML representation or trust the notebook. <br />On GitHub, the HTML representation is unable to render, please try loading this page with nbviewer.org.</b></div><div class=\"sk-container\" hidden><div class=\"sk-item sk-dashed-wrapped\"><div class=\"sk-label-container\"><div class=\"sk-label sk-toggleable\"><input class=\"sk-toggleable__control sk-hidden--visually\" id=\"sk-estimator-id-11\" type=\"checkbox\" ><label for=\"sk-estimator-id-11\" class=\"sk-toggleable__label sk-toggleable__label-arrow\">GridSearchCV</label><div class=\"sk-toggleable__content\"><pre>GridSearchCV(cv=5,\n",
       "             estimator=Pipeline(steps=[(&#x27;cvec&#x27;, CountVectorizer()),\n",
       "                                       (&#x27;scaler&#x27;,\n",
       "                                        StandardScaler(with_mean=False)),\n",
       "                                       (&#x27;lr&#x27;,\n",
       "                                        LogisticRegression(max_iter=500))]),\n",
       "             param_grid={&#x27;cvec__lowercase&#x27;: [True],\n",
       "                         &#x27;cvec__max_features&#x27;: [500, 1000, 1500, 2000],\n",
       "                         &#x27;cvec__ngram_range&#x27;: [(1, 1), (1, 2)],\n",
       "                         &#x27;cvec__stop_words&#x27;: [None, &#x27;english&#x27;],\n",
       "                         &#x27;lr__C&#x27;: [0.01, 0.1, 1, 10],\n",
       "                         &#x27;lr__penalty&#x27;: [&#x27;l1&#x27;, &#x27;l2&#x27;],\n",
       "                         &#x27;lr__solver&#x27;: [&#x27;liblinear&#x27;]})</pre></div></div></div><div class=\"sk-parallel\"><div class=\"sk-parallel-item\"><div class=\"sk-item\"><div class=\"sk-label-container\"><div class=\"sk-label sk-toggleable\"><input class=\"sk-toggleable__control sk-hidden--visually\" id=\"sk-estimator-id-12\" type=\"checkbox\" ><label for=\"sk-estimator-id-12\" class=\"sk-toggleable__label sk-toggleable__label-arrow\">estimator: Pipeline</label><div class=\"sk-toggleable__content\"><pre>Pipeline(steps=[(&#x27;cvec&#x27;, CountVectorizer()),\n",
       "                (&#x27;scaler&#x27;, StandardScaler(with_mean=False)),\n",
       "                (&#x27;lr&#x27;, LogisticRegression(max_iter=500))])</pre></div></div></div><div class=\"sk-serial\"><div class=\"sk-item\"><div class=\"sk-serial\"><div class=\"sk-item\"><div class=\"sk-estimator sk-toggleable\"><input class=\"sk-toggleable__control sk-hidden--visually\" id=\"sk-estimator-id-13\" type=\"checkbox\" ><label for=\"sk-estimator-id-13\" class=\"sk-toggleable__label sk-toggleable__label-arrow\">CountVectorizer</label><div class=\"sk-toggleable__content\"><pre>CountVectorizer()</pre></div></div></div><div class=\"sk-item\"><div class=\"sk-estimator sk-toggleable\"><input class=\"sk-toggleable__control sk-hidden--visually\" id=\"sk-estimator-id-14\" type=\"checkbox\" ><label for=\"sk-estimator-id-14\" class=\"sk-toggleable__label sk-toggleable__label-arrow\">StandardScaler</label><div class=\"sk-toggleable__content\"><pre>StandardScaler(with_mean=False)</pre></div></div></div><div class=\"sk-item\"><div class=\"sk-estimator sk-toggleable\"><input class=\"sk-toggleable__control sk-hidden--visually\" id=\"sk-estimator-id-15\" type=\"checkbox\" ><label for=\"sk-estimator-id-15\" class=\"sk-toggleable__label sk-toggleable__label-arrow\">LogisticRegression</label><div class=\"sk-toggleable__content\"><pre>LogisticRegression(max_iter=500)</pre></div></div></div></div></div></div></div></div></div></div></div></div>"
      ],
      "text/plain": [
       "GridSearchCV(cv=5,\n",
       "             estimator=Pipeline(steps=[('cvec', CountVectorizer()),\n",
       "                                       ('scaler',\n",
       "                                        StandardScaler(with_mean=False)),\n",
       "                                       ('lr',\n",
       "                                        LogisticRegression(max_iter=500))]),\n",
       "             param_grid={'cvec__lowercase': [True],\n",
       "                         'cvec__max_features': [500, 1000, 1500, 2000],\n",
       "                         'cvec__ngram_range': [(1, 1), (1, 2)],\n",
       "                         'cvec__stop_words': [None, 'english'],\n",
       "                         'lr__C': [0.01, 0.1, 1, 10],\n",
       "                         'lr__penalty': ['l1', 'l2'],\n",
       "                         'lr__solver': ['liblinear']})"
      ]
     },
     "execution_count": 95,
     "metadata": {},
     "output_type": "execute_result"
    }
   ],
   "source": [
    "# Fit the model\n",
    "gs.fit(X_train, y_train)"
   ]
  },
  {
   "cell_type": "code",
   "execution_count": 200,
   "id": "d0d3d128-91df-4d7c-a3a0-abb844d4ac0b",
   "metadata": {},
   "outputs": [
    {
     "name": "stdout",
     "output_type": "stream",
     "text": [
      "Best score: 0.8317535545023697\n",
      "\n",
      "Best params: {'cvec__lowercase': True, 'cvec__max_features': 1500, 'cvec__ngram_range': (1, 2), 'cvec__stop_words': 'english', 'lr__C': 0.01, 'lr__penalty': 'l2', 'lr__solver': 'liblinear'}\n",
      "\n",
      "              precision    recall  f1-score   support\n",
      "\n",
      "           0       0.82      0.78      0.80       212\n",
      "           1       0.86      0.89      0.87       316\n",
      "\n",
      "    accuracy                           0.84       528\n",
      "   macro avg       0.84      0.83      0.84       528\n",
      "weighted avg       0.84      0.84      0.84       528\n",
      "\n"
     ]
    }
   ],
   "source": [
    "# Print model scores\n",
    "print(f'Best score: {gs.best_score_}')\n",
    "print()\n",
    "print(f'Best params: {gs.best_params_}')\n",
    "print()\n",
    "y_pred = gs.predict(X_test)\n",
    "print(classification_report(y_test, y_pred))"
   ]
  },
  {
   "cell_type": "code",
   "execution_count": 203,
   "id": "c29b8a69-658b-43b6-a8d6-826a0b250b35",
   "metadata": {},
   "outputs": [
    {
     "data": {
      "image/png": "[encoded data removed]",
      "text/plain": [
       "<Figure size 640x480 with 2 Axes>"
      ]
     },
     "metadata": {},
     "output_type": "display_data"
    }
   ],
   "source": [
    "plot_confusion_matrix(y_test, y_pred, 'Logistic Regression + CountVectorizer')"
   ]
  },
  {
   "cell_type": "markdown",
   "id": "9e84e910-20d6-4ef1-818d-620b57378945",
   "metadata": {},
   "source": [
    "#### Findings \n",
    "* **Precision**: 0.86\n",
    "> * This means that 86% of the times the model predicted r/personalfinance, it was correct. Because precision is high, we can assume that we have low false positives. This means that the model does not incorrectly label too many r/investing posts as r/personalfinance.\n",
    "* **Recall**: 0.89\n",
    "> * This means that the model identified 89% of the actual r/personalfinance posts correctly. False negatives are low because recall is high. The model is correctly identifying most of the r/personalfinance posts.\n",
    "* **F-1 Score**: 0.87\n",
    "> * This is the balance between precision and recall.\n",
    "* **Overall Accuracy**: 0.84"
   ]
  },
  {
   "cell_type": "markdown",
   "id": "b2a2410d-24a0-4aaf-9575-b668251948eb",
   "metadata": {},
   "source": [
    "### Logistic Regression Model, CountVectorizer with Custom Vocabulary Parameter\n",
    "\n",
    "> While preprocessing my text data, I noticed that there were several words that were unique to each subreddit. I thought that maybe my model would improve if the vocabulary paramter was hand-picked based on this. I went ahead and fit my Logistic Regression model using a CountVectorizer and my own vocabulary parameter. The custom vocabulary ultimately **did not** improve the model's performance over the baseline model. From this, we can assume that the manually defined vocabulary may not capture meaningful features compared to vocabulary automatically chosen by the vectorizer. There can be several reason for these drawbacks. By limiting the vocabulary, the model may be missing out on other relevant words that may provide nuance. Another drawback to this model may be that it is easier to inject personal bias. This results in essential terms being ignored. Custom vocabulary also poses flexibilty issues. The model may not generalize well across different or updated datasets leading to poor future performance. By hand selecting the vocabulary, the model risks becoming an oversimplified model that may not be able to capture patterns in the data or becoming too specific and overfit. Finally, creating this model manually helped me understand how tedious the process of parsing through data to find key words to add to the vocabulary would be. Despite these drawbacks, the model surprisingly did not perform worse. However, the model's performance did not improve either. This suggests that the manually defined vocabulary parameter may not be able to capture enough nuance to improve the model's performance. \n"
   ]
  },
  {
   "cell_type": "code",
   "execution_count": 112,
   "id": "12778d2a-8a73-462d-94b9-d7d5b6fc7573",
   "metadata": {},
   "outputs": [],
   "source": [
    "# Logistic Regression, with CountVectorizer using unique_words for vocabulary parameter\n",
    "pipe_lr_cvec_vocab = Pipeline([\n",
    "    ('cvec', CountVectorizer(vocabulary = unique_words)),\n",
    "    ('scaler', StandardScaler(with_mean=False)), \n",
    "    ('lr', LogisticRegression(max_iter = 500))\n",
    "])"
   ]
  },
  {
   "cell_type": "code",
   "execution_count": 113,
   "id": "3b351807-ea5e-4c4c-97fc-0f7851cef6a1",
   "metadata": {},
   "outputs": [],
   "source": [
    "pipe_params_lr_cvec_vocab = {\n",
    "    'cvec__max_features': [1500], \n",
    "    'cvec__stop_words': ['english'], \n",
    "    'cvec__ngram_range': [(1,2)],\n",
    "    'cvec__lowercase': [True],\n",
    "    'lr__C': [0.01],  \n",
    "    'lr__penalty': ['l2'], \n",
    "    'lr__solver': ['liblinear']\n",
    "}"
   ]
  },
  {
   "cell_type": "code",
   "execution_count": 114,
   "id": "1b4c51bb-5264-4870-a280-4cfa3417008a",
   "metadata": {},
   "outputs": [],
   "source": [
    "# Instantiate GridSearchCV.\n",
    "gs_lr_cvec_vocab = GridSearchCV(pipe_lr_cvec_vocab, \n",
    "                                pipe_params_lr_cvec_vocab, \n",
    "                                cv = 5) "
   ]
  },
  {
   "cell_type": "code",
   "execution_count": 115,
   "id": "3a69f104-5fb7-453b-99b7-5fb112ed4a12",
   "metadata": {},
   "outputs": [
    {
     "data": {
      "text/html": [
       "<style>#sk-container-id-5 {color: black;background-color: white;}#sk-container-id-5 pre{padding: 0;}#sk-container-id-5 div.sk-toggleable {background-color: white;}#sk-container-id-5 label.sk-toggleable__label {cursor: pointer;display: block;width: 100%;margin-bottom: 0;padding: 0.3em;box-sizing: border-box;text-align: center;}#sk-container-id-5 label.sk-toggleable__label-arrow:before {content: \"▸\";float: left;margin-right: 0.25em;color: #696969;}#sk-container-id-5 label.sk-toggleable__label-arrow:hover:before {color: black;}#sk-container-id-5 div.sk-estimator:hover label.sk-toggleable__label-arrow:before {color: black;}#sk-container-id-5 div.sk-toggleable__content {max-height: 0;max-width: 0;overflow: hidden;text-align: left;background-color: #f0f8ff;}#sk-container-id-5 div.sk-toggleable__content pre {margin: 0.2em;color: black;border-radius: 0.25em;background-color: #f0f8ff;}#sk-container-id-5 input.sk-toggleable__control:checked~div.sk-toggleable__content {max-height: 200px;max-width: 100%;overflow: auto;}#sk-container-id-5 input.sk-toggleable__control:checked~label.sk-toggleable__label-arrow:before {content: \"▾\";}#sk-container-id-5 div.sk-estimator input.sk-toggleable__control:checked~label.sk-toggleable__label {background-color: #d4ebff;}#sk-container-id-5 div.sk-label input.sk-toggleable__control:checked~label.sk-toggleable__label {background-color: #d4ebff;}#sk-container-id-5 input.sk-hidden--visually {border: 0;clip: rect(1px 1px 1px 1px);clip: rect(1px, 1px, 1px, 1px);height: 1px;margin: -1px;overflow: hidden;padding: 0;position: absolute;width: 1px;}#sk-container-id-5 div.sk-estimator {font-family: monospace;background-color: #f0f8ff;border: 1px dotted black;border-radius: 0.25em;box-sizing: border-box;margin-bottom: 0.5em;}#sk-container-id-5 div.sk-estimator:hover {background-color: #d4ebff;}#sk-container-id-5 div.sk-parallel-item::after {content: \"\";width: 100%;border-bottom: 1px solid gray;flex-grow: 1;}#sk-container-id-5 div.sk-label:hover label.sk-toggleable__label {background-color: #d4ebff;}#sk-container-id-5 div.sk-serial::before {content: \"\";position: absolute;border-left: 1px solid gray;box-sizing: border-box;top: 0;bottom: 0;left: 50%;z-index: 0;}#sk-container-id-5 div.sk-serial {display: flex;flex-direction: column;align-items: center;background-color: white;padding-right: 0.2em;padding-left: 0.2em;position: relative;}#sk-container-id-5 div.sk-item {position: relative;z-index: 1;}#sk-container-id-5 div.sk-parallel {display: flex;align-items: stretch;justify-content: center;background-color: white;position: relative;}#sk-container-id-5 div.sk-item::before, #sk-container-id-5 div.sk-parallel-item::before {content: \"\";position: absolute;border-left: 1px solid gray;box-sizing: border-box;top: 0;bottom: 0;left: 50%;z-index: -1;}#sk-container-id-5 div.sk-parallel-item {display: flex;flex-direction: column;z-index: 1;position: relative;background-color: white;}#sk-container-id-5 div.sk-parallel-item:first-child::after {align-self: flex-end;width: 50%;}#sk-container-id-5 div.sk-parallel-item:last-child::after {align-self: flex-start;width: 50%;}#sk-container-id-5 div.sk-parallel-item:only-child::after {width: 0;}#sk-container-id-5 div.sk-dashed-wrapped {border: 1px dashed gray;margin: 0 0.4em 0.5em 0.4em;box-sizing: border-box;padding-bottom: 0.4em;background-color: white;}#sk-container-id-5 div.sk-label label {font-family: monospace;font-weight: bold;display: inline-block;line-height: 1.2em;}#sk-container-id-5 div.sk-label-container {text-align: center;}#sk-container-id-5 div.sk-container {/* jupyter's `normalize.less` sets `[hidden] { display: none; }` but bootstrap.min.css set `[hidden] { display: none !important; }` so we also need the `!important` here to be able to override the default hidden behavior on the sphinx rendered scikit-learn.org. See: https://github.com/scikit-learn/scikit-learn/issues/21755 */display: inline-block !important;position: relative;}#sk-container-id-5 div.sk-text-repr-fallback {display: none;}</style><div id=\"sk-container-id-5\" class=\"sk-top-container\"><div class=\"sk-text-repr-fallback\"><pre>GridSearchCV(cv=5,\n",
       "             estimator=Pipeline(steps=[(&#x27;cvec&#x27;, CountVectorizer()),\n",
       "                                       (&#x27;scaler&#x27;,\n",
       "                                        StandardScaler(with_mean=False)),\n",
       "                                       (&#x27;lr&#x27;,\n",
       "                                        LogisticRegression(max_iter=500))]),\n",
       "             param_grid={&#x27;cvec__lowercase&#x27;: [True],\n",
       "                         &#x27;cvec__max_features&#x27;: [500, 1000, 1500, 2000],\n",
       "                         &#x27;cvec__ngram_range&#x27;: [(1, 1), (1, 2)],\n",
       "                         &#x27;cvec__stop_words&#x27;: [None, &#x27;english&#x27;],\n",
       "                         &#x27;lr__C&#x27;: [0.01, 0.1, 1, 10],\n",
       "                         &#x27;lr__penalty&#x27;: [&#x27;l1&#x27;, &#x27;l2&#x27;],\n",
       "                         &#x27;lr__solver&#x27;: [&#x27;liblinear&#x27;]})</pre><b>In a Jupyter environment, please rerun this cell to show the HTML representation or trust the notebook. <br />On GitHub, the HTML representation is unable to render, please try loading this page with nbviewer.org.</b></div><div class=\"sk-container\" hidden><div class=\"sk-item sk-dashed-wrapped\"><div class=\"sk-label-container\"><div class=\"sk-label sk-toggleable\"><input class=\"sk-toggleable__control sk-hidden--visually\" id=\"sk-estimator-id-20\" type=\"checkbox\" ><label for=\"sk-estimator-id-20\" class=\"sk-toggleable__label sk-toggleable__label-arrow\">GridSearchCV</label><div class=\"sk-toggleable__content\"><pre>GridSearchCV(cv=5,\n",
       "             estimator=Pipeline(steps=[(&#x27;cvec&#x27;, CountVectorizer()),\n",
       "                                       (&#x27;scaler&#x27;,\n",
       "                                        StandardScaler(with_mean=False)),\n",
       "                                       (&#x27;lr&#x27;,\n",
       "                                        LogisticRegression(max_iter=500))]),\n",
       "             param_grid={&#x27;cvec__lowercase&#x27;: [True],\n",
       "                         &#x27;cvec__max_features&#x27;: [500, 1000, 1500, 2000],\n",
       "                         &#x27;cvec__ngram_range&#x27;: [(1, 1), (1, 2)],\n",
       "                         &#x27;cvec__stop_words&#x27;: [None, &#x27;english&#x27;],\n",
       "                         &#x27;lr__C&#x27;: [0.01, 0.1, 1, 10],\n",
       "                         &#x27;lr__penalty&#x27;: [&#x27;l1&#x27;, &#x27;l2&#x27;],\n",
       "                         &#x27;lr__solver&#x27;: [&#x27;liblinear&#x27;]})</pre></div></div></div><div class=\"sk-parallel\"><div class=\"sk-parallel-item\"><div class=\"sk-item\"><div class=\"sk-label-container\"><div class=\"sk-label sk-toggleable\"><input class=\"sk-toggleable__control sk-hidden--visually\" id=\"sk-estimator-id-21\" type=\"checkbox\" ><label for=\"sk-estimator-id-21\" class=\"sk-toggleable__label sk-toggleable__label-arrow\">estimator: Pipeline</label><div class=\"sk-toggleable__content\"><pre>Pipeline(steps=[(&#x27;cvec&#x27;, CountVectorizer()),\n",
       "                (&#x27;scaler&#x27;, StandardScaler(with_mean=False)),\n",
       "                (&#x27;lr&#x27;, LogisticRegression(max_iter=500))])</pre></div></div></div><div class=\"sk-serial\"><div class=\"sk-item\"><div class=\"sk-serial\"><div class=\"sk-item\"><div class=\"sk-estimator sk-toggleable\"><input class=\"sk-toggleable__control sk-hidden--visually\" id=\"sk-estimator-id-22\" type=\"checkbox\" ><label for=\"sk-estimator-id-22\" class=\"sk-toggleable__label sk-toggleable__label-arrow\">CountVectorizer</label><div class=\"sk-toggleable__content\"><pre>CountVectorizer()</pre></div></div></div><div class=\"sk-item\"><div class=\"sk-estimator sk-toggleable\"><input class=\"sk-toggleable__control sk-hidden--visually\" id=\"sk-estimator-id-23\" type=\"checkbox\" ><label for=\"sk-estimator-id-23\" class=\"sk-toggleable__label sk-toggleable__label-arrow\">StandardScaler</label><div class=\"sk-toggleable__content\"><pre>StandardScaler(with_mean=False)</pre></div></div></div><div class=\"sk-item\"><div class=\"sk-estimator sk-toggleable\"><input class=\"sk-toggleable__control sk-hidden--visually\" id=\"sk-estimator-id-24\" type=\"checkbox\" ><label for=\"sk-estimator-id-24\" class=\"sk-toggleable__label sk-toggleable__label-arrow\">LogisticRegression</label><div class=\"sk-toggleable__content\"><pre>LogisticRegression(max_iter=500)</pre></div></div></div></div></div></div></div></div></div></div></div></div>"
      ],
      "text/plain": [
       "GridSearchCV(cv=5,\n",
       "             estimator=Pipeline(steps=[('cvec', CountVectorizer()),\n",
       "                                       ('scaler',\n",
       "                                        StandardScaler(with_mean=False)),\n",
       "                                       ('lr',\n",
       "                                        LogisticRegression(max_iter=500))]),\n",
       "             param_grid={'cvec__lowercase': [True],\n",
       "                         'cvec__max_features': [500, 1000, 1500, 2000],\n",
       "                         'cvec__ngram_range': [(1, 1), (1, 2)],\n",
       "                         'cvec__stop_words': [None, 'english'],\n",
       "                         'lr__C': [0.01, 0.1, 1, 10],\n",
       "                         'lr__penalty': ['l1', 'l2'],\n",
       "                         'lr__solver': ['liblinear']})"
      ]
     },
     "execution_count": 115,
     "metadata": {},
     "output_type": "execute_result"
    }
   ],
   "source": [
    "gs_lr_cvec_vocab.fit(X_train, y_train)"
   ]
  },
  {
   "cell_type": "code",
   "execution_count": 204,
   "id": "56b6c18c-c1b1-427c-a7f3-8bfe06b89652",
   "metadata": {},
   "outputs": [
    {
     "name": "stdout",
     "output_type": "stream",
     "text": [
      "Best Score: 0.8317535545023697\n",
      "\n",
      "Best params: {'cvec__lowercase': True, 'cvec__max_features': 1500, 'cvec__ngram_range': (1, 2), 'cvec__stop_words': 'english', 'lr__C': 0.01, 'lr__penalty': 'l2', 'lr__solver': 'liblinear'}\n",
      "\n",
      "              precision    recall  f1-score   support\n",
      "\n",
      "           0       0.82      0.78      0.80       212\n",
      "           1       0.86      0.89      0.87       316\n",
      "\n",
      "    accuracy                           0.84       528\n",
      "   macro avg       0.84      0.83      0.84       528\n",
      "weighted avg       0.84      0.84      0.84       528\n",
      "\n"
     ]
    }
   ],
   "source": [
    "print(f'Best Score: {gs_lr_cvec_vocab.best_score_}')\n",
    "print()\n",
    "print(f'Best params: {gs_lr_cvec_vocab.best_params_}')\n",
    "print()\n",
    "y_pred = gs_lr_cvec_vocab.predict(X_test)\n",
    "print(classification_report(y_test, y_pred))"
   ]
  },
  {
   "cell_type": "code",
   "execution_count": 217,
   "id": "7e3a543b-b997-436b-864b-5fb7f420c499",
   "metadata": {},
   "outputs": [
    {
     "data": {
      "image/png": "[encoded data removed]",
      "text/plain": [
       "<Figure size 640x480 with 2 Axes>"
      ]
     },
     "metadata": {},
     "output_type": "display_data"
    }
   ],
   "source": [
    "plot_confusion_matrix(y_test, y_pred, 'Logistic Regression + CountVectorizer (Custom Vocab)')"
   ]
  },
  {
   "cell_type": "markdown",
   "id": "f47bce8a-3ed9-4048-9133-5b3e6d76faec",
   "metadata": {},
   "source": [
    "#### Findings \n",
    "* **Precision**: 0.86\n",
    "> * This means that 86% of the times the model predicted r/personalfinance, it was correct. Because precision is high, we can assume that we have low false positives. This means that the model does not incorrectly label too many r/investing posts as r/personalfinance.\n",
    "* **Recall**: 0.89\n",
    "> * This means that the model identified 89% of the actual r/personalfinance posts correctly. False negatives are low because recall is high. The model is correctly identifying most of the r/personalfinance posts.\n",
    "* **F-1 Score**: 0.87\n",
    "> * This is the balanced score between precision and recall.\n",
    "* **Overall Accuracy**: 0.84"
   ]
  },
  {
   "cell_type": "markdown",
   "id": "718bfc77-927d-4ed9-822e-f83f8f6a4f93",
   "metadata": {},
   "source": [
    "### Logistic Regression Model, TfidfVectorizer\n",
    "\n",
    "> TF-IDF Vectorizer puts more emphasis on less frequent, unique terms in documents. This allows the model to better capture the distingushing features of each subreddit. \n"
   ]
  },
  {
   "cell_type": "code",
   "execution_count": 101,
   "id": "1b221651-e076-4b6b-87ea-d9dfe3e26e26",
   "metadata": {},
   "outputs": [],
   "source": [
    "# Logistic Regression, with TVEC \n",
    "pipe_lr_tvec = Pipeline([\n",
    "    ('tvec', TfidfVectorizer()), \n",
    "    ('lr', LogisticRegression(max_iter = 500))\n",
    "])"
   ]
  },
  {
   "cell_type": "code",
   "execution_count": 102,
   "id": "eaa6da78-6796-4bff-968e-4c0bbef9fb56",
   "metadata": {},
   "outputs": [],
   "source": [
    "pipe_lr_tvec_params = {\n",
    "    'tvec__max_features':[2000, 3000, 4000, 5000],\n",
    "    'tvec__stop_words': [None, 'english'], \n",
    "    'tvec__ngram_range': [(1, 1), (1, 2)], \n",
    "}"
   ]
  },
  {
   "cell_type": "code",
   "execution_count": 103,
   "id": "9fbb085a-890c-4939-a796-cdc52b96dad8",
   "metadata": {},
   "outputs": [],
   "source": [
    "gs_lr_tvec = GridSearchCV(pipe_lr_tvec,\n",
    "                      param_grid=pipe_lr_tvec_params,\n",
    "                      cv = 5,\n",
    "                      verbose = 2, \n",
    "                      n_jobs = -1 \n",
    "                      )"
   ]
  },
  {
   "cell_type": "code",
   "execution_count": 104,
   "id": "fbc0230e-bf31-45bf-a15f-fa274301c42d",
   "metadata": {},
   "outputs": [
    {
     "name": "stdout",
     "output_type": "stream",
     "text": [
      "Fitting 5 folds for each of 16 candidates, totalling 80 fits\n"
     ]
    },
    {
     "data": {
      "text/html": [
       "<style>#sk-container-id-4 {color: black;background-color: white;}#sk-container-id-4 pre{padding: 0;}#sk-container-id-4 div.sk-toggleable {background-color: white;}#sk-container-id-4 label.sk-toggleable__label {cursor: pointer;display: block;width: 100%;margin-bottom: 0;padding: 0.3em;box-sizing: border-box;text-align: center;}#sk-container-id-4 label.sk-toggleable__label-arrow:before {content: \"▸\";float: left;margin-right: 0.25em;color: #696969;}#sk-container-id-4 label.sk-toggleable__label-arrow:hover:before {color: black;}#sk-container-id-4 div.sk-estimator:hover label.sk-toggleable__label-arrow:before {color: black;}#sk-container-id-4 div.sk-toggleable__content {max-height: 0;max-width: 0;overflow: hidden;text-align: left;background-color: #f0f8ff;}#sk-container-id-4 div.sk-toggleable__content pre {margin: 0.2em;color: black;border-radius: 0.25em;background-color: #f0f8ff;}#sk-container-id-4 input.sk-toggleable__control:checked~div.sk-toggleable__content {max-height: 200px;max-width: 100%;overflow: auto;}#sk-container-id-4 input.sk-toggleable__control:checked~label.sk-toggleable__label-arrow:before {content: \"▾\";}#sk-container-id-4 div.sk-estimator input.sk-toggleable__control:checked~label.sk-toggleable__label {background-color: #d4ebff;}#sk-container-id-4 div.sk-label input.sk-toggleable__control:checked~label.sk-toggleable__label {background-color: #d4ebff;}#sk-container-id-4 input.sk-hidden--visually {border: 0;clip: rect(1px 1px 1px 1px);clip: rect(1px, 1px, 1px, 1px);height: 1px;margin: -1px;overflow: hidden;padding: 0;position: absolute;width: 1px;}#sk-container-id-4 div.sk-estimator {font-family: monospace;background-color: #f0f8ff;border: 1px dotted black;border-radius: 0.25em;box-sizing: border-box;margin-bottom: 0.5em;}#sk-container-id-4 div.sk-estimator:hover {background-color: #d4ebff;}#sk-container-id-4 div.sk-parallel-item::after {content: \"\";width: 100%;border-bottom: 1px solid gray;flex-grow: 1;}#sk-container-id-4 div.sk-label:hover label.sk-toggleable__label {background-color: #d4ebff;}#sk-container-id-4 div.sk-serial::before {content: \"\";position: absolute;border-left: 1px solid gray;box-sizing: border-box;top: 0;bottom: 0;left: 50%;z-index: 0;}#sk-container-id-4 div.sk-serial {display: flex;flex-direction: column;align-items: center;background-color: white;padding-right: 0.2em;padding-left: 0.2em;position: relative;}#sk-container-id-4 div.sk-item {position: relative;z-index: 1;}#sk-container-id-4 div.sk-parallel {display: flex;align-items: stretch;justify-content: center;background-color: white;position: relative;}#sk-container-id-4 div.sk-item::before, #sk-container-id-4 div.sk-parallel-item::before {content: \"\";position: absolute;border-left: 1px solid gray;box-sizing: border-box;top: 0;bottom: 0;left: 50%;z-index: -1;}#sk-container-id-4 div.sk-parallel-item {display: flex;flex-direction: column;z-index: 1;position: relative;background-color: white;}#sk-container-id-4 div.sk-parallel-item:first-child::after {align-self: flex-end;width: 50%;}#sk-container-id-4 div.sk-parallel-item:last-child::after {align-self: flex-start;width: 50%;}#sk-container-id-4 div.sk-parallel-item:only-child::after {width: 0;}#sk-container-id-4 div.sk-dashed-wrapped {border: 1px dashed gray;margin: 0 0.4em 0.5em 0.4em;box-sizing: border-box;padding-bottom: 0.4em;background-color: white;}#sk-container-id-4 div.sk-label label {font-family: monospace;font-weight: bold;display: inline-block;line-height: 1.2em;}#sk-container-id-4 div.sk-label-container {text-align: center;}#sk-container-id-4 div.sk-container {/* jupyter's `normalize.less` sets `[hidden] { display: none; }` but bootstrap.min.css set `[hidden] { display: none !important; }` so we also need the `!important` here to be able to override the default hidden behavior on the sphinx rendered scikit-learn.org. See: https://github.com/scikit-learn/scikit-learn/issues/21755 */display: inline-block !important;position: relative;}#sk-container-id-4 div.sk-text-repr-fallback {display: none;}</style><div id=\"sk-container-id-4\" class=\"sk-top-container\"><div class=\"sk-text-repr-fallback\"><pre>GridSearchCV(cv=5,\n",
       "             estimator=Pipeline(steps=[(&#x27;tvec&#x27;, TfidfVectorizer()),\n",
       "                                       (&#x27;lr&#x27;,\n",
       "                                        LogisticRegression(max_iter=500))]),\n",
       "             n_jobs=-1,\n",
       "             param_grid={&#x27;tvec__max_features&#x27;: [2000, 3000, 4000, 5000],\n",
       "                         &#x27;tvec__ngram_range&#x27;: [(1, 1), (1, 2)],\n",
       "                         &#x27;tvec__stop_words&#x27;: [None, &#x27;english&#x27;]},\n",
       "             verbose=2)</pre><b>In a Jupyter environment, please rerun this cell to show the HTML representation or trust the notebook. <br />On GitHub, the HTML representation is unable to render, please try loading this page with nbviewer.org.</b></div><div class=\"sk-container\" hidden><div class=\"sk-item sk-dashed-wrapped\"><div class=\"sk-label-container\"><div class=\"sk-label sk-toggleable\"><input class=\"sk-toggleable__control sk-hidden--visually\" id=\"sk-estimator-id-16\" type=\"checkbox\" ><label for=\"sk-estimator-id-16\" class=\"sk-toggleable__label sk-toggleable__label-arrow\">GridSearchCV</label><div class=\"sk-toggleable__content\"><pre>GridSearchCV(cv=5,\n",
       "             estimator=Pipeline(steps=[(&#x27;tvec&#x27;, TfidfVectorizer()),\n",
       "                                       (&#x27;lr&#x27;,\n",
       "                                        LogisticRegression(max_iter=500))]),\n",
       "             n_jobs=-1,\n",
       "             param_grid={&#x27;tvec__max_features&#x27;: [2000, 3000, 4000, 5000],\n",
       "                         &#x27;tvec__ngram_range&#x27;: [(1, 1), (1, 2)],\n",
       "                         &#x27;tvec__stop_words&#x27;: [None, &#x27;english&#x27;]},\n",
       "             verbose=2)</pre></div></div></div><div class=\"sk-parallel\"><div class=\"sk-parallel-item\"><div class=\"sk-item\"><div class=\"sk-label-container\"><div class=\"sk-label sk-toggleable\"><input class=\"sk-toggleable__control sk-hidden--visually\" id=\"sk-estimator-id-17\" type=\"checkbox\" ><label for=\"sk-estimator-id-17\" class=\"sk-toggleable__label sk-toggleable__label-arrow\">estimator: Pipeline</label><div class=\"sk-toggleable__content\"><pre>Pipeline(steps=[(&#x27;tvec&#x27;, TfidfVectorizer()),\n",
       "                (&#x27;lr&#x27;, LogisticRegression(max_iter=500))])</pre></div></div></div><div class=\"sk-serial\"><div class=\"sk-item\"><div class=\"sk-serial\"><div class=\"sk-item\"><div class=\"sk-estimator sk-toggleable\"><input class=\"sk-toggleable__control sk-hidden--visually\" id=\"sk-estimator-id-18\" type=\"checkbox\" ><label for=\"sk-estimator-id-18\" class=\"sk-toggleable__label sk-toggleable__label-arrow\">TfidfVectorizer</label><div class=\"sk-toggleable__content\"><pre>TfidfVectorizer()</pre></div></div></div><div class=\"sk-item\"><div class=\"sk-estimator sk-toggleable\"><input class=\"sk-toggleable__control sk-hidden--visually\" id=\"sk-estimator-id-19\" type=\"checkbox\" ><label for=\"sk-estimator-id-19\" class=\"sk-toggleable__label sk-toggleable__label-arrow\">LogisticRegression</label><div class=\"sk-toggleable__content\"><pre>LogisticRegression(max_iter=500)</pre></div></div></div></div></div></div></div></div></div></div></div></div>"
      ],
      "text/plain": [
       "GridSearchCV(cv=5,\n",
       "             estimator=Pipeline(steps=[('tvec', TfidfVectorizer()),\n",
       "                                       ('lr',\n",
       "                                        LogisticRegression(max_iter=500))]),\n",
       "             n_jobs=-1,\n",
       "             param_grid={'tvec__max_features': [2000, 3000, 4000, 5000],\n",
       "                         'tvec__ngram_range': [(1, 1), (1, 2)],\n",
       "                         'tvec__stop_words': [None, 'english']},\n",
       "             verbose=2)"
      ]
     },
     "execution_count": 104,
     "metadata": {},
     "output_type": "execute_result"
    }
   ],
   "source": [
    "gs_lr_tvec.fit(X_train, y_train)"
   ]
  },
  {
   "cell_type": "code",
   "execution_count": 206,
   "id": "f4fdae91-1839-47c4-982b-5790e3128be5",
   "metadata": {},
   "outputs": [
    {
     "name": "stdout",
     "output_type": "stream",
     "text": [
      "Best Score: 0.8483412322274881\n",
      "\n",
      "Best params: {'tvec__max_features': 3000, 'tvec__ngram_range': (1, 2), 'tvec__stop_words': 'english'}\n",
      "\n",
      "              precision    recall  f1-score   support\n",
      "\n",
      "           0       0.85      0.77      0.81       212\n",
      "           1       0.86      0.91      0.88       316\n",
      "\n",
      "    accuracy                           0.85       528\n",
      "   macro avg       0.85      0.84      0.85       528\n",
      "weighted avg       0.85      0.85      0.85       528\n",
      "\n"
     ]
    }
   ],
   "source": [
    "print(f'Best Score: {gs_lr_tvec.best_score_}')\n",
    "print()\n",
    "print(f'Best params: {gs_lr_tvec.best_params_}')\n",
    "print()\n",
    "y_pred = gs_lr_tvec.predict(X_test)\n",
    "print(classification_report(y_test, y_pred))"
   ]
  },
  {
   "cell_type": "code",
   "execution_count": 207,
   "id": "d74bab1f-87e5-4999-a192-c54def22ebe0",
   "metadata": {},
   "outputs": [
    {
     "data": {
      "image/png": "[encoded data removed]",
      "text/plain": [
       "<Figure size 640x480 with 2 Axes>"
      ]
     },
     "metadata": {},
     "output_type": "display_data"
    }
   ],
   "source": [
    "plot_confusion_matrix(y_test, y_pred, 'Logistic Regression + TF-IDFVectorizer')"
   ]
  },
  {
   "cell_type": "markdown",
   "id": "ec4fdcf8-7892-4cca-8fea-e82f5613c916",
   "metadata": {},
   "source": [
    "#### Findings \n",
    "* **Precision**: 0.86\n",
    "> * This means that 86% of the times the model predicted r/personalfinance, it was correct. Because precision is high, we can assume that we have low false positives. This means that the model does not incorrectly label too many r/investing posts as r/personalfinance.\n",
    "* **Recall**: 0.91 (Higher than CountVectorizer)\n",
    "> * This means that the model identified 91% of the actual r/personalfinance posts correctly. False negatives are low because recall is high. The model is correctly identifying most of the r/personalfinance posts. One thing to note, the recall for r/investing decreased to 77%. \n",
    "* **F-1 Score**: 0.88\n",
    "> * This is the balance between precision and recall.\n",
    "* **Overall Accuracy**: 0.85\n",
    "> * Compared to the baseline model, TfidfVectorizer slightly improves the accuracy from 0.84 to 0.85. This suggests that TF-IDF is capturing more relevant features than the word counts from CountVectorizer. "
   ]
  },
  {
   "cell_type": "markdown",
   "id": "0df6f78f-54e6-4365-9bb2-811e645aa2be",
   "metadata": {},
   "source": [
    "### Logistic Regression Model, TfidfVectorizer with Custom Vocabulary Parameter\n",
    "\n",
    "> As mentioned above, using custom vocabulary has multiple drawbacks. When they are not well-researched or there is not enough data to capture relevant terms effectively, they can harm a model's performance. \n"
   ]
  },
  {
   "cell_type": "code",
   "execution_count": 122,
   "id": "250d892f-6de9-441b-b85f-42619dff3e25",
   "metadata": {},
   "outputs": [],
   "source": [
    "# Logistic Regression, with TVEC and vocab \n",
    "pipe_lr_tvec_vocab = Pipeline([\n",
    "    ('tvec', TfidfVectorizer(vocabulary = unique_words)), \n",
    "    ('lr', LogisticRegression(max_iter = 500))\n",
    "])"
   ]
  },
  {
   "cell_type": "code",
   "execution_count": 124,
   "id": "cd176be5-926c-4617-b7d7-5628202c1675",
   "metadata": {},
   "outputs": [],
   "source": [
    "pipe_lr_tvec_vocab_params = {\n",
    "    'tvec__max_features':[2000, 3000, 4000, 5000],\n",
    "    'tvec__stop_words': [None, 'english'], \n",
    "    'tvec__ngram_range': [(1, 1), (1, 2)], \n",
    "}"
   ]
  },
  {
   "cell_type": "code",
   "execution_count": 138,
   "id": "1b1022ef-0e72-4b45-9ed9-790dde135430",
   "metadata": {},
   "outputs": [],
   "source": [
    "gs_lr_tvec_vocab = GridSearchCV(pipe_lr_tvec_vocab,\n",
    "                      param_grid=pipe_lr_tvec_vocab_params,\n",
    "                      cv = 5,\n",
    "                      verbose = 2, \n",
    "                      n_jobs = -1 \n",
    "                      )"
   ]
  },
  {
   "cell_type": "code",
   "execution_count": 139,
   "id": "97f0194e-4ef9-4b45-aa7d-951a5ac1d844",
   "metadata": {},
   "outputs": [
    {
     "name": "stdout",
     "output_type": "stream",
     "text": [
      "Fitting 5 folds for each of 16 candidates, totalling 80 fits\n"
     ]
    },
    {
     "data": {
      "text/html": [
       "<style>#sk-container-id-7 {color: black;background-color: white;}#sk-container-id-7 pre{padding: 0;}#sk-container-id-7 div.sk-toggleable {background-color: white;}#sk-container-id-7 label.sk-toggleable__label {cursor: pointer;display: block;width: 100%;margin-bottom: 0;padding: 0.3em;box-sizing: border-box;text-align: center;}#sk-container-id-7 label.sk-toggleable__label-arrow:before {content: \"▸\";float: left;margin-right: 0.25em;color: #696969;}#sk-container-id-7 label.sk-toggleable__label-arrow:hover:before {color: black;}#sk-container-id-7 div.sk-estimator:hover label.sk-toggleable__label-arrow:before {color: black;}#sk-container-id-7 div.sk-toggleable__content {max-height: 0;max-width: 0;overflow: hidden;text-align: left;background-color: #f0f8ff;}#sk-container-id-7 div.sk-toggleable__content pre {margin: 0.2em;color: black;border-radius: 0.25em;background-color: #f0f8ff;}#sk-container-id-7 input.sk-toggleable__control:checked~div.sk-toggleable__content {max-height: 200px;max-width: 100%;overflow: auto;}#sk-container-id-7 input.sk-toggleable__control:checked~label.sk-toggleable__label-arrow:before {content: \"▾\";}#sk-container-id-7 div.sk-estimator input.sk-toggleable__control:checked~label.sk-toggleable__label {background-color: #d4ebff;}#sk-container-id-7 div.sk-label input.sk-toggleable__control:checked~label.sk-toggleable__label {background-color: #d4ebff;}#sk-container-id-7 input.sk-hidden--visually {border: 0;clip: rect(1px 1px 1px 1px);clip: rect(1px, 1px, 1px, 1px);height: 1px;margin: -1px;overflow: hidden;padding: 0;position: absolute;width: 1px;}#sk-container-id-7 div.sk-estimator {font-family: monospace;background-color: #f0f8ff;border: 1px dotted black;border-radius: 0.25em;box-sizing: border-box;margin-bottom: 0.5em;}#sk-container-id-7 div.sk-estimator:hover {background-color: #d4ebff;}#sk-container-id-7 div.sk-parallel-item::after {content: \"\";width: 100%;border-bottom: 1px solid gray;flex-grow: 1;}#sk-container-id-7 div.sk-label:hover label.sk-toggleable__label {background-color: #d4ebff;}#sk-container-id-7 div.sk-serial::before {content: \"\";position: absolute;border-left: 1px solid gray;box-sizing: border-box;top: 0;bottom: 0;left: 50%;z-index: 0;}#sk-container-id-7 div.sk-serial {display: flex;flex-direction: column;align-items: center;background-color: white;padding-right: 0.2em;padding-left: 0.2em;position: relative;}#sk-container-id-7 div.sk-item {position: relative;z-index: 1;}#sk-container-id-7 div.sk-parallel {display: flex;align-items: stretch;justify-content: center;background-color: white;position: relative;}#sk-container-id-7 div.sk-item::before, #sk-container-id-7 div.sk-parallel-item::before {content: \"\";position: absolute;border-left: 1px solid gray;box-sizing: border-box;top: 0;bottom: 0;left: 50%;z-index: -1;}#sk-container-id-7 div.sk-parallel-item {display: flex;flex-direction: column;z-index: 1;position: relative;background-color: white;}#sk-container-id-7 div.sk-parallel-item:first-child::after {align-self: flex-end;width: 50%;}#sk-container-id-7 div.sk-parallel-item:last-child::after {align-self: flex-start;width: 50%;}#sk-container-id-7 div.sk-parallel-item:only-child::after {width: 0;}#sk-container-id-7 div.sk-dashed-wrapped {border: 1px dashed gray;margin: 0 0.4em 0.5em 0.4em;box-sizing: border-box;padding-bottom: 0.4em;background-color: white;}#sk-container-id-7 div.sk-label label {font-family: monospace;font-weight: bold;display: inline-block;line-height: 1.2em;}#sk-container-id-7 div.sk-label-container {text-align: center;}#sk-container-id-7 div.sk-container {/* jupyter's `normalize.less` sets `[hidden] { display: none; }` but bootstrap.min.css set `[hidden] { display: none !important; }` so we also need the `!important` here to be able to override the default hidden behavior on the sphinx rendered scikit-learn.org. See: https://github.com/scikit-learn/scikit-learn/issues/21755 */display: inline-block !important;position: relative;}#sk-container-id-7 div.sk-text-repr-fallback {display: none;}</style><div id=\"sk-container-id-7\" class=\"sk-top-container\"><div class=\"sk-text-repr-fallback\"><pre>GridSearchCV(cv=5,\n",
       "             estimator=Pipeline(steps=[(&#x27;tvec&#x27;,\n",
       "                                        TfidfVectorizer(vocabulary=[&#x27;investor&#x27;,\n",
       "                                                                    &#x27;resource&#x27;,\n",
       "                                                                    &#x27;trading&#x27;,\n",
       "                                                                    &#x27;list&#x27;,\n",
       "                                                                    &#x27;relevant&#x27;,\n",
       "                                                                    &#x27;useful&#x27;,\n",
       "                                                                    &#x27;wiki&#x27;,\n",
       "                                                                    &#x27;sampp&#x27;,\n",
       "                                                                    &#x27;level&#x27;,\n",
       "                                                                    &#x27;sector&#x27;,\n",
       "                                                                    &#x27;trade&#x27;,\n",
       "                                                                    &#x27;allocation&#x27;,\n",
       "                                                                    &#x27;daily&#x27;,\n",
       "                                                                    &#x27;vti&#x27;,\n",
       "                                                                    &#x27;exposure&#x27;,\n",
       "                                                                    &#x27;data&#x27;,\n",
       "                                                                    &#x27;world&#x27;,\n",
       "                                                                    &#x27;discussion&#x27;,\n",
       "                                                                    &#x27;international&#x27;,\n",
       "                                                                    &#x27;horizon&#x27;,\n",
       "                                                                    &#x27;vehicle&#x27;,\n",
       "                                                                    &#x27;owe&#x27;,\n",
       "                                                                    &#x27;afford&#x27;,\n",
       "                                                                    &#x27;cc&#x27;,\n",
       "                                                                    &#x27;deductible&#x27;,\n",
       "                                                                    &#x27;auto&#x27;,\n",
       "                                                                    &#x27;apr&#x27;,\n",
       "                                                                    &#x27;collection&#x27;,\n",
       "                                                                    &#x27;policy&#x27;,\n",
       "                                                                    &#x27;charge&#x27;, ...])),\n",
       "                                       (&#x27;lr&#x27;,\n",
       "                                        LogisticRegression(max_iter=500))]),\n",
       "             n_jobs=-1,\n",
       "             param_grid={&#x27;tvec__max_features&#x27;: [2000, 3000, 4000, 5000],\n",
       "                         &#x27;tvec__ngram_range&#x27;: [(1, 1), (1, 2)],\n",
       "                         &#x27;tvec__stop_words&#x27;: [None, &#x27;english&#x27;]},\n",
       "             verbose=2)</pre><b>In a Jupyter environment, please rerun this cell to show the HTML representation or trust the notebook. <br />On GitHub, the HTML representation is unable to render, please try loading this page with nbviewer.org.</b></div><div class=\"sk-container\" hidden><div class=\"sk-item sk-dashed-wrapped\"><div class=\"sk-label-container\"><div class=\"sk-label sk-toggleable\"><input class=\"sk-toggleable__control sk-hidden--visually\" id=\"sk-estimator-id-29\" type=\"checkbox\" ><label for=\"sk-estimator-id-29\" class=\"sk-toggleable__label sk-toggleable__label-arrow\">GridSearchCV</label><div class=\"sk-toggleable__content\"><pre>GridSearchCV(cv=5,\n",
       "             estimator=Pipeline(steps=[(&#x27;tvec&#x27;,\n",
       "                                        TfidfVectorizer(vocabulary=[&#x27;investor&#x27;,\n",
       "                                                                    &#x27;resource&#x27;,\n",
       "                                                                    &#x27;trading&#x27;,\n",
       "                                                                    &#x27;list&#x27;,\n",
       "                                                                    &#x27;relevant&#x27;,\n",
       "                                                                    &#x27;useful&#x27;,\n",
       "                                                                    &#x27;wiki&#x27;,\n",
       "                                                                    &#x27;sampp&#x27;,\n",
       "                                                                    &#x27;level&#x27;,\n",
       "                                                                    &#x27;sector&#x27;,\n",
       "                                                                    &#x27;trade&#x27;,\n",
       "                                                                    &#x27;allocation&#x27;,\n",
       "                                                                    &#x27;daily&#x27;,\n",
       "                                                                    &#x27;vti&#x27;,\n",
       "                                                                    &#x27;exposure&#x27;,\n",
       "                                                                    &#x27;data&#x27;,\n",
       "                                                                    &#x27;world&#x27;,\n",
       "                                                                    &#x27;discussion&#x27;,\n",
       "                                                                    &#x27;international&#x27;,\n",
       "                                                                    &#x27;horizon&#x27;,\n",
       "                                                                    &#x27;vehicle&#x27;,\n",
       "                                                                    &#x27;owe&#x27;,\n",
       "                                                                    &#x27;afford&#x27;,\n",
       "                                                                    &#x27;cc&#x27;,\n",
       "                                                                    &#x27;deductible&#x27;,\n",
       "                                                                    &#x27;auto&#x27;,\n",
       "                                                                    &#x27;apr&#x27;,\n",
       "                                                                    &#x27;collection&#x27;,\n",
       "                                                                    &#x27;policy&#x27;,\n",
       "                                                                    &#x27;charge&#x27;, ...])),\n",
       "                                       (&#x27;lr&#x27;,\n",
       "                                        LogisticRegression(max_iter=500))]),\n",
       "             n_jobs=-1,\n",
       "             param_grid={&#x27;tvec__max_features&#x27;: [2000, 3000, 4000, 5000],\n",
       "                         &#x27;tvec__ngram_range&#x27;: [(1, 1), (1, 2)],\n",
       "                         &#x27;tvec__stop_words&#x27;: [None, &#x27;english&#x27;]},\n",
       "             verbose=2)</pre></div></div></div><div class=\"sk-parallel\"><div class=\"sk-parallel-item\"><div class=\"sk-item\"><div class=\"sk-label-container\"><div class=\"sk-label sk-toggleable\"><input class=\"sk-toggleable__control sk-hidden--visually\" id=\"sk-estimator-id-30\" type=\"checkbox\" ><label for=\"sk-estimator-id-30\" class=\"sk-toggleable__label sk-toggleable__label-arrow\">estimator: Pipeline</label><div class=\"sk-toggleable__content\"><pre>Pipeline(steps=[(&#x27;tvec&#x27;,\n",
       "                 TfidfVectorizer(vocabulary=[&#x27;investor&#x27;, &#x27;resource&#x27;, &#x27;trading&#x27;,\n",
       "                                             &#x27;list&#x27;, &#x27;relevant&#x27;, &#x27;useful&#x27;,\n",
       "                                             &#x27;wiki&#x27;, &#x27;sampp&#x27;, &#x27;level&#x27;, &#x27;sector&#x27;,\n",
       "                                             &#x27;trade&#x27;, &#x27;allocation&#x27;, &#x27;daily&#x27;,\n",
       "                                             &#x27;vti&#x27;, &#x27;exposure&#x27;, &#x27;data&#x27;, &#x27;world&#x27;,\n",
       "                                             &#x27;discussion&#x27;, &#x27;international&#x27;,\n",
       "                                             &#x27;horizon&#x27;, &#x27;vehicle&#x27;, &#x27;owe&#x27;,\n",
       "                                             &#x27;afford&#x27;, &#x27;cc&#x27;, &#x27;deductible&#x27;,\n",
       "                                             &#x27;auto&#x27;, &#x27;apr&#x27;, &#x27;collection&#x27;,\n",
       "                                             &#x27;policy&#x27;, &#x27;charge&#x27;, ...])),\n",
       "                (&#x27;lr&#x27;, LogisticRegression(max_iter=500))])</pre></div></div></div><div class=\"sk-serial\"><div class=\"sk-item\"><div class=\"sk-serial\"><div class=\"sk-item\"><div class=\"sk-estimator sk-toggleable\"><input class=\"sk-toggleable__control sk-hidden--visually\" id=\"sk-estimator-id-31\" type=\"checkbox\" ><label for=\"sk-estimator-id-31\" class=\"sk-toggleable__label sk-toggleable__label-arrow\">TfidfVectorizer</label><div class=\"sk-toggleable__content\"><pre>TfidfVectorizer(vocabulary=[&#x27;investor&#x27;, &#x27;resource&#x27;, &#x27;trading&#x27;, &#x27;list&#x27;,\n",
       "                            &#x27;relevant&#x27;, &#x27;useful&#x27;, &#x27;wiki&#x27;, &#x27;sampp&#x27;, &#x27;level&#x27;,\n",
       "                            &#x27;sector&#x27;, &#x27;trade&#x27;, &#x27;allocation&#x27;, &#x27;daily&#x27;, &#x27;vti&#x27;,\n",
       "                            &#x27;exposure&#x27;, &#x27;data&#x27;, &#x27;world&#x27;, &#x27;discussion&#x27;,\n",
       "                            &#x27;international&#x27;, &#x27;horizon&#x27;, &#x27;vehicle&#x27;, &#x27;owe&#x27;,\n",
       "                            &#x27;afford&#x27;, &#x27;cc&#x27;, &#x27;deductible&#x27;, &#x27;auto&#x27;, &#x27;apr&#x27;,\n",
       "                            &#x27;collection&#x27;, &#x27;policy&#x27;, &#x27;charge&#x27;, ...])</pre></div></div></div><div class=\"sk-item\"><div class=\"sk-estimator sk-toggleable\"><input class=\"sk-toggleable__control sk-hidden--visually\" id=\"sk-estimator-id-32\" type=\"checkbox\" ><label for=\"sk-estimator-id-32\" class=\"sk-toggleable__label sk-toggleable__label-arrow\">LogisticRegression</label><div class=\"sk-toggleable__content\"><pre>LogisticRegression(max_iter=500)</pre></div></div></div></div></div></div></div></div></div></div></div></div>"
      ],
      "text/plain": [
       "GridSearchCV(cv=5,\n",
       "             estimator=Pipeline(steps=[('tvec',\n",
       "                                        TfidfVectorizer(vocabulary=['investor',\n",
       "                                                                    'resource',\n",
       "                                                                    'trading',\n",
       "                                                                    'list',\n",
       "                                                                    'relevant',\n",
       "                                                                    'useful',\n",
       "                                                                    'wiki',\n",
       "                                                                    'sampp',\n",
       "                                                                    'level',\n",
       "                                                                    'sector',\n",
       "                                                                    'trade',\n",
       "                                                                    'allocation',\n",
       "                                                                    'daily',\n",
       "                                                                    'vti',\n",
       "                                                                    'exposure',\n",
       "                                                                    'data',\n",
       "                                                                    'world',\n",
       "                                                                    'discussion',\n",
       "                                                                    'international',\n",
       "                                                                    'horizon',\n",
       "                                                                    'vehicle',\n",
       "                                                                    'owe',\n",
       "                                                                    'afford',\n",
       "                                                                    'cc',\n",
       "                                                                    'deductible',\n",
       "                                                                    'auto',\n",
       "                                                                    'apr',\n",
       "                                                                    'collection',\n",
       "                                                                    'policy',\n",
       "                                                                    'charge', ...])),\n",
       "                                       ('lr',\n",
       "                                        LogisticRegression(max_iter=500))]),\n",
       "             n_jobs=-1,\n",
       "             param_grid={'tvec__max_features': [2000, 3000, 4000, 5000],\n",
       "                         'tvec__ngram_range': [(1, 1), (1, 2)],\n",
       "                         'tvec__stop_words': [None, 'english']},\n",
       "             verbose=2)"
      ]
     },
     "execution_count": 139,
     "metadata": {},
     "output_type": "execute_result"
    }
   ],
   "source": [
    "gs_lr_tvec_vocab.fit(X_train, y_train)"
   ]
  },
  {
   "cell_type": "code",
   "execution_count": 208,
   "id": "dc332233-9218-45f4-8ae0-6fb8746c0b77",
   "metadata": {},
   "outputs": [
    {
     "name": "stdout",
     "output_type": "stream",
     "text": [
      "Best Score: 0.723696682464455\n",
      "\n",
      "Best params: {'tvec__max_features': 2000, 'tvec__ngram_range': (1, 1), 'tvec__stop_words': None}\n",
      "\n",
      "              precision    recall  f1-score   support\n",
      "\n",
      "           0       0.83      0.40      0.54       212\n",
      "           1       0.70      0.95      0.81       316\n",
      "\n",
      "    accuracy                           0.73       528\n",
      "   macro avg       0.77      0.67      0.67       528\n",
      "weighted avg       0.75      0.73      0.70       528\n",
      "\n"
     ]
    }
   ],
   "source": [
    "print(f'Best Score: {gs_lr_tvec_vocab.best_score_}')\n",
    "print()\n",
    "print(f'Best params: {gs_lr_tvec_vocab.best_params_}')\n",
    "print()\n",
    "y_pred = gs_lr_tvec_vocab.predict(X_test)\n",
    "print(classification_report(y_test, y_pred))"
   ]
  },
  {
   "cell_type": "code",
   "execution_count": 218,
   "id": "42878aff-b08c-4edd-883e-b44bbbffd394",
   "metadata": {},
   "outputs": [
    {
     "data": {
      "image/png": "[encoded data removed]",
      "text/plain": [
       "<Figure size 640x480 with 2 Axes>"
      ]
     },
     "metadata": {},
     "output_type": "display_data"
    }
   ],
   "source": [
    "plot_confusion_matrix(y_test, y_pred, 'Logistic Regression + TF-IDFVectorizer (Custom Vocab)')"
   ]
  },
  {
   "cell_type": "markdown",
   "id": "d645a43e-cfef-494b-a9a3-2e762edf5322",
   "metadata": {},
   "source": [
    "#### Findings \n",
    "* **Precision**: 0.70\n",
    "> * There is a significant drop in accuracy from 85% in the baseline model to 70%. \n",
    "* **Recall**: 0.95\n",
    "> * While the recall for r/personalfinance was 95%, the recall for r/investing was a mere 40%. This suggests that many r/investing posts are misclassified as r/personalfinance. This suggests a high number of False Negatives for r/investing which significantly decreased performance. \n",
    "* **F-1 Score**: 0.81\n",
    "> * The imbalance between r/investing scores and r/personalfinance scores suggests that the model is overfitting to r/personalfinance and failing to identify r/investing correctly. \n",
    "* **Overall Accuracy**: 0.73"
   ]
  },
  {
   "cell_type": "markdown",
   "id": "582dccca-3363-4836-ad5f-398139784622",
   "metadata": {},
   "source": [
    "### Naive Bayes Model, CountVectorizer\n",
    "\n",
    "> Naive Bayes generally works well with text data. This is seen especially when words are independent of one another because the model automatically assumes that features are not dependent. CountVectorizer captures word frequencies well for this model which contributes to the improved results. \n"
   ]
  },
  {
   "cell_type": "code",
   "execution_count": 155,
   "id": "cd14c7db-cee7-4b60-89a1-07c6e64d01b8",
   "metadata": {},
   "outputs": [],
   "source": [
    "pipe_nb_cvec = Pipeline([\n",
    "    ('cvec', CountVectorizer(stop_words='english')),\n",
    "    ('nb', MultinomialNB())\n",
    "])"
   ]
  },
  {
   "cell_type": "code",
   "execution_count": 156,
   "id": "01a14f0b-a8a3-440f-aba1-9867913adf18",
   "metadata": {},
   "outputs": [],
   "source": [
    "pipe_nb_cvec_params = {\n",
    "    'cvec__max_features': [1000, 1500, 2000],\n",
    "    'cvec__ngram_range': [(1, 1)],\n",
    "    'nb__alpha': [0.9, 1, 2, 3]  \n",
    "}"
   ]
  },
  {
   "cell_type": "code",
   "execution_count": 157,
   "id": "d2543e4e-e104-4cc3-a120-a75b0e813519",
   "metadata": {},
   "outputs": [],
   "source": [
    "gs_nb_cvec = GridSearchCV(pipe_nb_cvec, \n",
    "                          pipe_nb_cvec_params, \n",
    "                          cv=5, \n",
    "                          n_jobs=-1) "
   ]
  },
  {
   "cell_type": "code",
   "execution_count": 158,
   "id": "c2f17ecb-0071-4a45-8535-98ee8b3b5ef6",
   "metadata": {},
   "outputs": [
    {
     "data": {
      "text/html": [
       "<style>#sk-container-id-10 {color: black;background-color: white;}#sk-container-id-10 pre{padding: 0;}#sk-container-id-10 div.sk-toggleable {background-color: white;}#sk-container-id-10 label.sk-toggleable__label {cursor: pointer;display: block;width: 100%;margin-bottom: 0;padding: 0.3em;box-sizing: border-box;text-align: center;}#sk-container-id-10 label.sk-toggleable__label-arrow:before {content: \"▸\";float: left;margin-right: 0.25em;color: #696969;}#sk-container-id-10 label.sk-toggleable__label-arrow:hover:before {color: black;}#sk-container-id-10 div.sk-estimator:hover label.sk-toggleable__label-arrow:before {color: black;}#sk-container-id-10 div.sk-toggleable__content {max-height: 0;max-width: 0;overflow: hidden;text-align: left;background-color: #f0f8ff;}#sk-container-id-10 div.sk-toggleable__content pre {margin: 0.2em;color: black;border-radius: 0.25em;background-color: #f0f8ff;}#sk-container-id-10 input.sk-toggleable__control:checked~div.sk-toggleable__content {max-height: 200px;max-width: 100%;overflow: auto;}#sk-container-id-10 input.sk-toggleable__control:checked~label.sk-toggleable__label-arrow:before {content: \"▾\";}#sk-container-id-10 div.sk-estimator input.sk-toggleable__control:checked~label.sk-toggleable__label {background-color: #d4ebff;}#sk-container-id-10 div.sk-label input.sk-toggleable__control:checked~label.sk-toggleable__label {background-color: #d4ebff;}#sk-container-id-10 input.sk-hidden--visually {border: 0;clip: rect(1px 1px 1px 1px);clip: rect(1px, 1px, 1px, 1px);height: 1px;margin: -1px;overflow: hidden;padding: 0;position: absolute;width: 1px;}#sk-container-id-10 div.sk-estimator {font-family: monospace;background-color: #f0f8ff;border: 1px dotted black;border-radius: 0.25em;box-sizing: border-box;margin-bottom: 0.5em;}#sk-container-id-10 div.sk-estimator:hover {background-color: #d4ebff;}#sk-container-id-10 div.sk-parallel-item::after {content: \"\";width: 100%;border-bottom: 1px solid gray;flex-grow: 1;}#sk-container-id-10 div.sk-label:hover label.sk-toggleable__label {background-color: #d4ebff;}#sk-container-id-10 div.sk-serial::before {content: \"\";position: absolute;border-left: 1px solid gray;box-sizing: border-box;top: 0;bottom: 0;left: 50%;z-index: 0;}#sk-container-id-10 div.sk-serial {display: flex;flex-direction: column;align-items: center;background-color: white;padding-right: 0.2em;padding-left: 0.2em;position: relative;}#sk-container-id-10 div.sk-item {position: relative;z-index: 1;}#sk-container-id-10 div.sk-parallel {display: flex;align-items: stretch;justify-content: center;background-color: white;position: relative;}#sk-container-id-10 div.sk-item::before, #sk-container-id-10 div.sk-parallel-item::before {content: \"\";position: absolute;border-left: 1px solid gray;box-sizing: border-box;top: 0;bottom: 0;left: 50%;z-index: -1;}#sk-container-id-10 div.sk-parallel-item {display: flex;flex-direction: column;z-index: 1;position: relative;background-color: white;}#sk-container-id-10 div.sk-parallel-item:first-child::after {align-self: flex-end;width: 50%;}#sk-container-id-10 div.sk-parallel-item:last-child::after {align-self: flex-start;width: 50%;}#sk-container-id-10 div.sk-parallel-item:only-child::after {width: 0;}#sk-container-id-10 div.sk-dashed-wrapped {border: 1px dashed gray;margin: 0 0.4em 0.5em 0.4em;box-sizing: border-box;padding-bottom: 0.4em;background-color: white;}#sk-container-id-10 div.sk-label label {font-family: monospace;font-weight: bold;display: inline-block;line-height: 1.2em;}#sk-container-id-10 div.sk-label-container {text-align: center;}#sk-container-id-10 div.sk-container {/* jupyter's `normalize.less` sets `[hidden] { display: none; }` but bootstrap.min.css set `[hidden] { display: none !important; }` so we also need the `!important` here to be able to override the default hidden behavior on the sphinx rendered scikit-learn.org. See: https://github.com/scikit-learn/scikit-learn/issues/21755 */display: inline-block !important;position: relative;}#sk-container-id-10 div.sk-text-repr-fallback {display: none;}</style><div id=\"sk-container-id-10\" class=\"sk-top-container\"><div class=\"sk-text-repr-fallback\"><pre>GridSearchCV(cv=5,\n",
       "             estimator=Pipeline(steps=[(&#x27;cvec&#x27;,\n",
       "                                        CountVectorizer(stop_words=&#x27;english&#x27;)),\n",
       "                                       (&#x27;nb&#x27;, MultinomialNB())]),\n",
       "             n_jobs=-1,\n",
       "             param_grid={&#x27;cvec__max_features&#x27;: [1000, 1500, 2000],\n",
       "                         &#x27;cvec__ngram_range&#x27;: [(1, 1)],\n",
       "                         &#x27;nb__alpha&#x27;: [0.9, 1, 2, 3]})</pre><b>In a Jupyter environment, please rerun this cell to show the HTML representation or trust the notebook. <br />On GitHub, the HTML representation is unable to render, please try loading this page with nbviewer.org.</b></div><div class=\"sk-container\" hidden><div class=\"sk-item sk-dashed-wrapped\"><div class=\"sk-label-container\"><div class=\"sk-label sk-toggleable\"><input class=\"sk-toggleable__control sk-hidden--visually\" id=\"sk-estimator-id-41\" type=\"checkbox\" ><label for=\"sk-estimator-id-41\" class=\"sk-toggleable__label sk-toggleable__label-arrow\">GridSearchCV</label><div class=\"sk-toggleable__content\"><pre>GridSearchCV(cv=5,\n",
       "             estimator=Pipeline(steps=[(&#x27;cvec&#x27;,\n",
       "                                        CountVectorizer(stop_words=&#x27;english&#x27;)),\n",
       "                                       (&#x27;nb&#x27;, MultinomialNB())]),\n",
       "             n_jobs=-1,\n",
       "             param_grid={&#x27;cvec__max_features&#x27;: [1000, 1500, 2000],\n",
       "                         &#x27;cvec__ngram_range&#x27;: [(1, 1)],\n",
       "                         &#x27;nb__alpha&#x27;: [0.9, 1, 2, 3]})</pre></div></div></div><div class=\"sk-parallel\"><div class=\"sk-parallel-item\"><div class=\"sk-item\"><div class=\"sk-label-container\"><div class=\"sk-label sk-toggleable\"><input class=\"sk-toggleable__control sk-hidden--visually\" id=\"sk-estimator-id-42\" type=\"checkbox\" ><label for=\"sk-estimator-id-42\" class=\"sk-toggleable__label sk-toggleable__label-arrow\">estimator: Pipeline</label><div class=\"sk-toggleable__content\"><pre>Pipeline(steps=[(&#x27;cvec&#x27;, CountVectorizer(stop_words=&#x27;english&#x27;)),\n",
       "                (&#x27;nb&#x27;, MultinomialNB())])</pre></div></div></div><div class=\"sk-serial\"><div class=\"sk-item\"><div class=\"sk-serial\"><div class=\"sk-item\"><div class=\"sk-estimator sk-toggleable\"><input class=\"sk-toggleable__control sk-hidden--visually\" id=\"sk-estimator-id-43\" type=\"checkbox\" ><label for=\"sk-estimator-id-43\" class=\"sk-toggleable__label sk-toggleable__label-arrow\">CountVectorizer</label><div class=\"sk-toggleable__content\"><pre>CountVectorizer(stop_words=&#x27;english&#x27;)</pre></div></div></div><div class=\"sk-item\"><div class=\"sk-estimator sk-toggleable\"><input class=\"sk-toggleable__control sk-hidden--visually\" id=\"sk-estimator-id-44\" type=\"checkbox\" ><label for=\"sk-estimator-id-44\" class=\"sk-toggleable__label sk-toggleable__label-arrow\">MultinomialNB</label><div class=\"sk-toggleable__content\"><pre>MultinomialNB()</pre></div></div></div></div></div></div></div></div></div></div></div></div>"
      ],
      "text/plain": [
       "GridSearchCV(cv=5,\n",
       "             estimator=Pipeline(steps=[('cvec',\n",
       "                                        CountVectorizer(stop_words='english')),\n",
       "                                       ('nb', MultinomialNB())]),\n",
       "             n_jobs=-1,\n",
       "             param_grid={'cvec__max_features': [1000, 1500, 2000],\n",
       "                         'cvec__ngram_range': [(1, 1)],\n",
       "                         'nb__alpha': [0.9, 1, 2, 3]})"
      ]
     },
     "execution_count": 158,
     "metadata": {},
     "output_type": "execute_result"
    }
   ],
   "source": [
    "gs_nb_cvec.fit(X_train, y_train)"
   ]
  },
  {
   "cell_type": "code",
   "execution_count": 210,
   "id": "b44056e2-1c1d-420e-899e-2afc2f5788df",
   "metadata": {},
   "outputs": [
    {
     "name": "stdout",
     "output_type": "stream",
     "text": [
      "Best Score: 0.8516587677725118\n",
      "\n",
      "Best params: {'cvec__max_features': 1500, 'cvec__ngram_range': (1, 1), 'nb__alpha': 2}\n",
      "\n",
      "              precision    recall  f1-score   support\n",
      "\n",
      "           0       0.82      0.81      0.81       212\n",
      "           1       0.87      0.88      0.88       316\n",
      "\n",
      "    accuracy                           0.85       528\n",
      "   macro avg       0.84      0.84      0.84       528\n",
      "weighted avg       0.85      0.85      0.85       528\n",
      "\n"
     ]
    }
   ],
   "source": [
    "print(f'Best Score: {gs_nb_cvec.best_score_}')\n",
    "print()\n",
    "print(f'Best params: {gs_nb_cvec.best_params_}')\n",
    "print()\n",
    "y_pred = gs_nb_cvec.predict(X_test)\n",
    "print(classification_report(y_test, y_pred))"
   ]
  },
  {
   "cell_type": "code",
   "execution_count": 220,
   "id": "666a5945-30db-4104-9b4d-b7a5a4934664",
   "metadata": {},
   "outputs": [
    {
     "data": {
      "image/png": "[encoded data removed]",
      "text/plain": [
       "<Figure size 640x480 with 2 Axes>"
      ]
     },
     "metadata": {},
     "output_type": "display_data"
    }
   ],
   "source": [
    "plot_confusion_matrix(y_test, y_pred, 'Naive Bayes + CountVectorizer')"
   ]
  },
  {
   "cell_type": "markdown",
   "id": "aef4fc7e-0b00-4bc7-98de-54d0269145b9",
   "metadata": {},
   "source": [
    "#### Findings \n",
    "* **Precision**: 0.87\n",
    "> * Naive Bayes seems to be performing on par with Logistic Regression + TfidfVectorizer. The precision for r/personalfinance is slighty higher. \n",
    "* **Recall**: 0.88\n",
    "> * This means that the model identified 88% of the actual r/personalfinance posts correctly. False negatives are low because recall is high. Recall for r/investing is also higher with 81% which suggests that this model is performing better than the baseline in accurately identifying r/investing posts. Fewer false negatives are observed for r/investing as the model has improved from the baseline. \n",
    "* **F-1 Score**: 0.88\n",
    "> * This is the balance between precision and recall.\n",
    "* **Overall Accuracy**: 0.85"
   ]
  },
  {
   "cell_type": "markdown",
   "id": "fcacc9dd-a8d0-4d76-b01c-cc3a0b171170",
   "metadata": {},
   "source": [
    "### Naive Bayes Model, TfidfVectorizer\n",
    "\n",
    "> TF-IDF may not be able to capture word relevance as effectively for Naive Bayes in this dataset as it did for Logistic Regression. This may be due to the fact that Naive Bayes benefits more from raw frequency counts seen in CountVectorizer. "
   ]
  },
  {
   "cell_type": "code",
   "execution_count": 148,
   "id": "a3607bdb-98fa-4442-ac86-ccd8029fa4ba",
   "metadata": {},
   "outputs": [],
   "source": [
    "pipe_nb_tvec = Pipeline([\n",
    "    ('tvec', TfidfVectorizer(stop_words='english')),\n",
    "    ('nb', MultinomialNB())\n",
    "])"
   ]
  },
  {
   "cell_type": "code",
   "execution_count": 149,
   "id": "5dbcc6cc-791b-4cdc-9f22-5f9b260b89e3",
   "metadata": {},
   "outputs": [],
   "source": [
    "pipe_nb_tvec_params = {\n",
    "    'tvec__max_features':[2000, 3000, 4000, 5000],\n",
    "    'tvec__stop_words': [None, 'english'], \n",
    "    'tvec__ngram_range': [(1, 1), (1, 2)], \n",
    "}"
   ]
  },
  {
   "cell_type": "code",
   "execution_count": 151,
   "id": "7a6c6d16-586d-4e8f-97c5-019cd07a33ab",
   "metadata": {},
   "outputs": [],
   "source": [
    "gs_nb_tvec = GridSearchCV(pipe_nb_tvec, \n",
    "                          pipe_nb_tvec_params, \n",
    "                          cv=5, \n",
    "                          n_jobs=-1) "
   ]
  },
  {
   "cell_type": "code",
   "execution_count": 152,
   "id": "1efdbae4-3b26-4257-afbc-b1ec39b40944",
   "metadata": {},
   "outputs": [
    {
     "data": {
      "text/html": [
       "<style>#sk-container-id-9 {color: black;background-color: white;}#sk-container-id-9 pre{padding: 0;}#sk-container-id-9 div.sk-toggleable {background-color: white;}#sk-container-id-9 label.sk-toggleable__label {cursor: pointer;display: block;width: 100%;margin-bottom: 0;padding: 0.3em;box-sizing: border-box;text-align: center;}#sk-container-id-9 label.sk-toggleable__label-arrow:before {content: \"▸\";float: left;margin-right: 0.25em;color: #696969;}#sk-container-id-9 label.sk-toggleable__label-arrow:hover:before {color: black;}#sk-container-id-9 div.sk-estimator:hover label.sk-toggleable__label-arrow:before {color: black;}#sk-container-id-9 div.sk-toggleable__content {max-height: 0;max-width: 0;overflow: hidden;text-align: left;background-color: #f0f8ff;}#sk-container-id-9 div.sk-toggleable__content pre {margin: 0.2em;color: black;border-radius: 0.25em;background-color: #f0f8ff;}#sk-container-id-9 input.sk-toggleable__control:checked~div.sk-toggleable__content {max-height: 200px;max-width: 100%;overflow: auto;}#sk-container-id-9 input.sk-toggleable__control:checked~label.sk-toggleable__label-arrow:before {content: \"▾\";}#sk-container-id-9 div.sk-estimator input.sk-toggleable__control:checked~label.sk-toggleable__label {background-color: #d4ebff;}#sk-container-id-9 div.sk-label input.sk-toggleable__control:checked~label.sk-toggleable__label {background-color: #d4ebff;}#sk-container-id-9 input.sk-hidden--visually {border: 0;clip: rect(1px 1px 1px 1px);clip: rect(1px, 1px, 1px, 1px);height: 1px;margin: -1px;overflow: hidden;padding: 0;position: absolute;width: 1px;}#sk-container-id-9 div.sk-estimator {font-family: monospace;background-color: #f0f8ff;border: 1px dotted black;border-radius: 0.25em;box-sizing: border-box;margin-bottom: 0.5em;}#sk-container-id-9 div.sk-estimator:hover {background-color: #d4ebff;}#sk-container-id-9 div.sk-parallel-item::after {content: \"\";width: 100%;border-bottom: 1px solid gray;flex-grow: 1;}#sk-container-id-9 div.sk-label:hover label.sk-toggleable__label {background-color: #d4ebff;}#sk-container-id-9 div.sk-serial::before {content: \"\";position: absolute;border-left: 1px solid gray;box-sizing: border-box;top: 0;bottom: 0;left: 50%;z-index: 0;}#sk-container-id-9 div.sk-serial {display: flex;flex-direction: column;align-items: center;background-color: white;padding-right: 0.2em;padding-left: 0.2em;position: relative;}#sk-container-id-9 div.sk-item {position: relative;z-index: 1;}#sk-container-id-9 div.sk-parallel {display: flex;align-items: stretch;justify-content: center;background-color: white;position: relative;}#sk-container-id-9 div.sk-item::before, #sk-container-id-9 div.sk-parallel-item::before {content: \"\";position: absolute;border-left: 1px solid gray;box-sizing: border-box;top: 0;bottom: 0;left: 50%;z-index: -1;}#sk-container-id-9 div.sk-parallel-item {display: flex;flex-direction: column;z-index: 1;position: relative;background-color: white;}#sk-container-id-9 div.sk-parallel-item:first-child::after {align-self: flex-end;width: 50%;}#sk-container-id-9 div.sk-parallel-item:last-child::after {align-self: flex-start;width: 50%;}#sk-container-id-9 div.sk-parallel-item:only-child::after {width: 0;}#sk-container-id-9 div.sk-dashed-wrapped {border: 1px dashed gray;margin: 0 0.4em 0.5em 0.4em;box-sizing: border-box;padding-bottom: 0.4em;background-color: white;}#sk-container-id-9 div.sk-label label {font-family: monospace;font-weight: bold;display: inline-block;line-height: 1.2em;}#sk-container-id-9 div.sk-label-container {text-align: center;}#sk-container-id-9 div.sk-container {/* jupyter's `normalize.less` sets `[hidden] { display: none; }` but bootstrap.min.css set `[hidden] { display: none !important; }` so we also need the `!important` here to be able to override the default hidden behavior on the sphinx rendered scikit-learn.org. See: https://github.com/scikit-learn/scikit-learn/issues/21755 */display: inline-block !important;position: relative;}#sk-container-id-9 div.sk-text-repr-fallback {display: none;}</style><div id=\"sk-container-id-9\" class=\"sk-top-container\"><div class=\"sk-text-repr-fallback\"><pre>GridSearchCV(cv=5,\n",
       "             estimator=Pipeline(steps=[(&#x27;tvec&#x27;,\n",
       "                                        TfidfVectorizer(stop_words=&#x27;english&#x27;)),\n",
       "                                       (&#x27;nb&#x27;, MultinomialNB())]),\n",
       "             n_jobs=-1,\n",
       "             param_grid={&#x27;tvec__max_features&#x27;: [2000, 3000, 4000, 5000],\n",
       "                         &#x27;tvec__ngram_range&#x27;: [(1, 1), (1, 2)],\n",
       "                         &#x27;tvec__stop_words&#x27;: [None, &#x27;english&#x27;]})</pre><b>In a Jupyter environment, please rerun this cell to show the HTML representation or trust the notebook. <br />On GitHub, the HTML representation is unable to render, please try loading this page with nbviewer.org.</b></div><div class=\"sk-container\" hidden><div class=\"sk-item sk-dashed-wrapped\"><div class=\"sk-label-container\"><div class=\"sk-label sk-toggleable\"><input class=\"sk-toggleable__control sk-hidden--visually\" id=\"sk-estimator-id-37\" type=\"checkbox\" ><label for=\"sk-estimator-id-37\" class=\"sk-toggleable__label sk-toggleable__label-arrow\">GridSearchCV</label><div class=\"sk-toggleable__content\"><pre>GridSearchCV(cv=5,\n",
       "             estimator=Pipeline(steps=[(&#x27;tvec&#x27;,\n",
       "                                        TfidfVectorizer(stop_words=&#x27;english&#x27;)),\n",
       "                                       (&#x27;nb&#x27;, MultinomialNB())]),\n",
       "             n_jobs=-1,\n",
       "             param_grid={&#x27;tvec__max_features&#x27;: [2000, 3000, 4000, 5000],\n",
       "                         &#x27;tvec__ngram_range&#x27;: [(1, 1), (1, 2)],\n",
       "                         &#x27;tvec__stop_words&#x27;: [None, &#x27;english&#x27;]})</pre></div></div></div><div class=\"sk-parallel\"><div class=\"sk-parallel-item\"><div class=\"sk-item\"><div class=\"sk-label-container\"><div class=\"sk-label sk-toggleable\"><input class=\"sk-toggleable__control sk-hidden--visually\" id=\"sk-estimator-id-38\" type=\"checkbox\" ><label for=\"sk-estimator-id-38\" class=\"sk-toggleable__label sk-toggleable__label-arrow\">estimator: Pipeline</label><div class=\"sk-toggleable__content\"><pre>Pipeline(steps=[(&#x27;tvec&#x27;, TfidfVectorizer(stop_words=&#x27;english&#x27;)),\n",
       "                (&#x27;nb&#x27;, MultinomialNB())])</pre></div></div></div><div class=\"sk-serial\"><div class=\"sk-item\"><div class=\"sk-serial\"><div class=\"sk-item\"><div class=\"sk-estimator sk-toggleable\"><input class=\"sk-toggleable__control sk-hidden--visually\" id=\"sk-estimator-id-39\" type=\"checkbox\" ><label for=\"sk-estimator-id-39\" class=\"sk-toggleable__label sk-toggleable__label-arrow\">TfidfVectorizer</label><div class=\"sk-toggleable__content\"><pre>TfidfVectorizer(stop_words=&#x27;english&#x27;)</pre></div></div></div><div class=\"sk-item\"><div class=\"sk-estimator sk-toggleable\"><input class=\"sk-toggleable__control sk-hidden--visually\" id=\"sk-estimator-id-40\" type=\"checkbox\" ><label for=\"sk-estimator-id-40\" class=\"sk-toggleable__label sk-toggleable__label-arrow\">MultinomialNB</label><div class=\"sk-toggleable__content\"><pre>MultinomialNB()</pre></div></div></div></div></div></div></div></div></div></div></div></div>"
      ],
      "text/plain": [
       "GridSearchCV(cv=5,\n",
       "             estimator=Pipeline(steps=[('tvec',\n",
       "                                        TfidfVectorizer(stop_words='english')),\n",
       "                                       ('nb', MultinomialNB())]),\n",
       "             n_jobs=-1,\n",
       "             param_grid={'tvec__max_features': [2000, 3000, 4000, 5000],\n",
       "                         'tvec__ngram_range': [(1, 1), (1, 2)],\n",
       "                         'tvec__stop_words': [None, 'english']})"
      ]
     },
     "execution_count": 152,
     "metadata": {},
     "output_type": "execute_result"
    }
   ],
   "source": [
    "gs_nb_tvec.fit(X_train, y_train)"
   ]
  },
  {
   "cell_type": "code",
   "execution_count": 212,
   "id": "2ac3c169-2206-4610-adc7-979401f4a64f",
   "metadata": {},
   "outputs": [
    {
     "name": "stdout",
     "output_type": "stream",
     "text": [
      "Best Score: 0.8364928909952607\n",
      "\n",
      "Best params: {'tvec__max_features': 2000, 'tvec__ngram_range': (1, 2), 'tvec__stop_words': 'english'}\n",
      "\n",
      "              precision    recall  f1-score   support\n",
      "\n",
      "           0       0.87      0.72      0.79       212\n",
      "           1       0.83      0.93      0.88       316\n",
      "\n",
      "    accuracy                           0.84       528\n",
      "   macro avg       0.85      0.82      0.83       528\n",
      "weighted avg       0.85      0.84      0.84       528\n",
      "\n"
     ]
    }
   ],
   "source": [
    "print(f'Best Score: {gs_nb_tvec.best_score_}')\n",
    "print()\n",
    "print(f'Best params: {gs_nb_tvec.best_params_}')\n",
    "print()\n",
    "y_pred = gs_nb_tvec.predict(X_test)\n",
    "print(classification_report(y_test, y_pred))"
   ]
  },
  {
   "cell_type": "code",
   "execution_count": 219,
   "id": "b7cf9b63-6caf-467d-9b83-dee6e8dd15c0",
   "metadata": {},
   "outputs": [
    {
     "data": {
      "image/png": "[encoded data removed]",
      "text/plain": [
       "<Figure size 640x480 with 2 Axes>"
      ]
     },
     "metadata": {},
     "output_type": "display_data"
    }
   ],
   "source": [
    "plot_confusion_matrix(y_test, y_pred, 'Naive Bayes + TF-IDFVectorizer')"
   ]
  },
  {
   "cell_type": "markdown",
   "id": "6ac00a17-f962-413d-8c84-473f78fcb882",
   "metadata": {},
   "source": [
    "#### Findings \n",
    "* **Precision**: 0.83\n",
    "> * This means that 83% of the times the model predicted r/personalfinance, it was correct. Because precision is high, we can assume that we have low false positives. This means that the model does not incorrectly label too many r/investing posts as r/personalfinance.\n",
    "* **Recall**: 0.93\n",
    "> * While recall for r/personalfinance is 93% we see that recall for r/investing dropped to 72%. This means that the model faile to classify many r/investing posts. This results in a higher number of false negatives for r/investing. \n",
    "* **F-1 Score**: 0.88\n",
    "> * This is the balance between precision and recall.\n",
    "* **Overall Accuracy**: 0.84"
   ]
  },
  {
   "cell_type": "code",
   "execution_count": 214,
   "id": "ab7f1ab0-564f-44b5-b9ee-59d587f29322",
   "metadata": {},
   "outputs": [
    {
     "data": {
      "text/html": [
       "<div>\n",
       "<style scoped>\n",
       "    .dataframe tbody tr th:only-of-type {\n",
       "        vertical-align: middle;\n",
       "    }\n",
       "\n",
       "    .dataframe tbody tr th {\n",
       "        vertical-align: top;\n",
       "    }\n",
       "\n",
       "    .dataframe thead th {\n",
       "        text-align: right;\n",
       "    }\n",
       "</style>\n",
       "<table border=\"1\" class=\"dataframe\">\n",
       "  <thead>\n",
       "    <tr style=\"text-align: right;\">\n",
       "      <th></th>\n",
       "      <th>Model</th>\n",
       "      <th>Precision (Class 0)</th>\n",
       "      <th>Recall (Class 0)</th>\n",
       "      <th>F1-Score (Class 0)</th>\n",
       "      <th>Precision (Class 1)</th>\n",
       "      <th>Recall (Class 1)</th>\n",
       "      <th>F1-Score (Class 1)</th>\n",
       "      <th>Accuracy</th>\n",
       "    </tr>\n",
       "  </thead>\n",
       "  <tbody>\n",
       "    <tr>\n",
       "      <th>0</th>\n",
       "      <td>LogReg + CountVectorizer</td>\n",
       "      <td>0.82</td>\n",
       "      <td>0.78</td>\n",
       "      <td>0.80</td>\n",
       "      <td>0.86</td>\n",
       "      <td>0.89</td>\n",
       "      <td>0.87</td>\n",
       "      <td>0.84</td>\n",
       "    </tr>\n",
       "    <tr>\n",
       "      <th>1</th>\n",
       "      <td>LogReg + TF-IDF</td>\n",
       "      <td>0.85</td>\n",
       "      <td>0.77</td>\n",
       "      <td>0.81</td>\n",
       "      <td>0.86</td>\n",
       "      <td>0.91</td>\n",
       "      <td>0.88</td>\n",
       "      <td>0.85</td>\n",
       "    </tr>\n",
       "    <tr>\n",
       "      <th>2</th>\n",
       "      <td>NaiveBayes + CountVectorizer</td>\n",
       "      <td>0.82</td>\n",
       "      <td>0.81</td>\n",
       "      <td>0.81</td>\n",
       "      <td>0.87</td>\n",
       "      <td>0.88</td>\n",
       "      <td>0.88</td>\n",
       "      <td>0.85</td>\n",
       "    </tr>\n",
       "    <tr>\n",
       "      <th>3</th>\n",
       "      <td>NaiveBayes + TF-IDF</td>\n",
       "      <td>0.87</td>\n",
       "      <td>0.72</td>\n",
       "      <td>0.79</td>\n",
       "      <td>0.83</td>\n",
       "      <td>0.93</td>\n",
       "      <td>0.88</td>\n",
       "      <td>0.84</td>\n",
       "    </tr>\n",
       "  </tbody>\n",
       "</table>\n",
       "</div>"
      ],
      "text/plain": [
       "                          Model  Precision (Class 0)  Recall (Class 0)  \\\n",
       "0      LogReg + CountVectorizer                 0.82              0.78   \n",
       "1               LogReg + TF-IDF                 0.85              0.77   \n",
       "2  NaiveBayes + CountVectorizer                 0.82              0.81   \n",
       "3           NaiveBayes + TF-IDF                 0.87              0.72   \n",
       "\n",
       "   F1-Score (Class 0)  Precision (Class 1)  Recall (Class 1)  \\\n",
       "0                0.80                 0.86              0.89   \n",
       "1                0.81                 0.86              0.91   \n",
       "2                0.81                 0.87              0.88   \n",
       "3                0.79                 0.83              0.93   \n",
       "\n",
       "   F1-Score (Class 1)  Accuracy  \n",
       "0                0.87      0.84  \n",
       "1                0.88      0.85  \n",
       "2                0.88      0.85  \n",
       "3                0.88      0.84  "
      ]
     },
     "execution_count": 214,
     "metadata": {},
     "output_type": "execute_result"
    }
   ],
   "source": [
    "data = {\n",
    "    'Model': ['LogReg + CountVectorizer', 'LogReg + TF-IDF', 'NaiveBayes + CountVectorizer', 'NaiveBayes + TF-IDF'],\n",
    "    'Precision (Class 0)': [0.82, 0.85, 0.82, 0.87],\n",
    "    'Recall (Class 0)': [0.78, 0.77, 0.81, 0.72],\n",
    "    'F1-Score (Class 0)': [0.80, 0.81, 0.81, 0.79],\n",
    "    'Precision (Class 1)': [0.86, 0.86, 0.87, 0.83],\n",
    "    'Recall (Class 1)': [0.89, 0.91, 0.88, 0.93],\n",
    "    'F1-Score (Class 1)': [0.87, 0.88, 0.88, 0.88],\n",
    "    'Accuracy': [0.84, 0.85, 0.85, 0.84]\n",
    "}\n",
    "df = pd.DataFrame(data)\n",
    "df"
   ]
  },
  {
   "cell_type": "markdown",
   "id": "450c1c57-d0ad-4d18-8dba-a9d5aab3033c",
   "metadata": {},
   "source": [
    "## Conclusion \n",
    "\n",
    "**Key Metrics**\n",
    "> * Precision: This measured how many of the posts predicted to be in a subreddit actually belonged to that subreddit. This was an important metric to note because false positives, in this case when r/investing posts are classified as r/personalfinance, are costly. This would mean the company would be marketing to professional investors when their target audience is novices.\n",
    "> * Recall: This measured how many of the actual posts from a subreddit were correctly identified. Having false negatives and missing r/personalfinance posts are detrimental because the company could be missing out on potential users.\n",
    "> * F1- Score: This gives an overall picture of the model's performance.\n",
    "\n",
    "**Logistic Regression with TF-IDF**\n",
    "> * Best Score: 0.848\n",
    "> * Precision: 0.86\n",
    "> * Recall: 0.91\n",
    "> * F1-Score: 0.88\n",
    "> * This model has very high recall, meaning it is able to correctly identify 91% of the posts from r/personalfinance. It also has a strong precison of 86% meaning that a high percentage of posts classified as r/personalfinance are correct.\n",
    "\n",
    "**Naive Bayes with CountVectorizer**\n",
    "> * Best Score: 0.851\n",
    "> * Precision: 0.87\n",
    "> * Recall: 0.88\n",
    "> * F1-Score: 0.88\n",
    "> * This model has a slightly lower recall for r/personalfinance (from 0.91 to 0.88). The other metrics are fairly on par with the Logistic Regression model. This means that the model is still very good but it misses a few more r/personalfinance posts compared to the logistic model.\n",
    "\n",
    "**FP vs FN**\n",
    "> * False Positives (FP): This occurs when the model is predicting a post is from r/personalfinance when it's actually from r/investing. Too many false positives could result in a company targeting users who may already be investors and would not find any benefit from the company's product.\n",
    "> * False Negatives (FN): This occurs when the model is predicting a post is from r/investing when it is actually from r/personalfinance. False negatives could result in a company missing potential users who are novices and may be interested in the company's product. This may be worse for the company in the long run.\n",
    "\n",
    "**Best Model**\n",
    "\n",
    "#### Logistic Regression with TF-IDF!! \n",
    "This model has the highest recall for identifying posts from r/personalfinance. This means that a company that uses this model to scout for novices who are interested in investing will reach their target audience. It is the best choice because it prioritizes capturing as many r/persnalfinance posts as possible (these are potential users). \n"
   ]
  },
  {
   "cell_type": "code",
   "execution_count": null,
   "id": "1971efba-5c3d-47ba-8c98-bd9c359233e6",
   "metadata": {},
   "outputs": [],
   "source": []
  }
 ],
 "metadata": {
  "kernelspec": {
   "display_name": "Python 3 (ipykernel)",
   "language": "python",
   "name": "python3"
  },
  "language_info": {
   "codemirror_mode": {
    "name": "ipython",
    "version": 3
   },
   "file_extension": ".py",
   "mimetype": "text/x-python",
   "name": "python",
   "nbconvert_exporter": "python",
   "pygments_lexer": "ipython3",
   "version": "3.11.9"
  }
 },
 "nbformat": 4,
 "nbformat_minor": 5
}
